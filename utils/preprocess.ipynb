{
 "cells": [
  {
   "cell_type": "code",
   "execution_count": null,
   "id": "854728db",
   "metadata": {},
   "outputs": [],
   "source": [
    "%matplotlib inline\n",
    "import matplotlib\n",
    "import matplotlib.pyplot as plt\n",
    "import pandas as pd\n",
    "import tqdm\n",
    "import numpy as np\n",
    "from sklearn.linear_model import LinearRegression\n",
    "import scipy.stats as stats\n",
    "import warnings\n",
    "warnings.filterwarnings('ignore')\n",
    "plt.rcParams['font.sans-serif'] = ['SimHei']\n",
    "plt.rcParams['axes.unicode_minus'] = False"
   ]
  },
  {
   "cell_type": "code",
   "execution_count": null,
   "id": "1a58e470",
   "metadata": {},
   "outputs": [],
   "source": [
    "print(\"数据挖掘大作业：北京二手房信息，来源于链家网\")"
   ]
  },
  {
   "cell_type": "code",
   "execution_count": null,
   "id": "200cdbc1",
   "metadata": {},
   "outputs": [],
   "source": [
    "print('加载数据集')\n",
    "data = pd.read_csv('data/lianjia1.csv', index_col=0,encoding='gbk')\n",
    "print('属性类别数:', len(data.columns))\n",
    "print('总行数:', len(data))\n",
    "print('示例数据:')\n",
    "data.head(5)"
   ]
  },
  {
   "cell_type": "code",
   "execution_count": null,
   "id": "7a4dbed9",
   "metadata": {},
   "outputs": [],
   "source": [
    "print('提取每一列属性以及名称')\n",
    "num_fields = data.select_dtypes(include=np.number).columns.values\n",
    "nom_fields = data.select_dtypes(exclude=np.number).columns.values\n",
    "print('标称属性:', nom_fields)\n",
    "print('数值属性:', num_fields)\n",
    "print(data.shape,\" \",nom_fields.shape,\" \",num_fields.shape)"
   ]
  },
  {
   "cell_type": "code",
   "execution_count": null,
   "id": "28bb24b3",
   "metadata": {},
   "outputs": [],
   "source": [
    "print('\\nmendian(门店):')\n",
    "a=data['mendian'].value_counts()\n",
    "print(a)\n",
    "\n",
    "print('\\nzhiwei(职位):')\n",
    "b=data['zhiwei'].value_counts()\n",
    "print(b)\n",
    "\n",
    "print('\\nhaoping(好评):')\n",
    "c=data['haoping'].value_counts()\n",
    "print(c)\n",
    "\n",
    "print('\\ncjdanjia(成交单价):')\n",
    "d=data['cjdanjia'].value_counts()\n",
    "print(d)\n",
    "\n",
    "print('\\nxingming(姓名):')\n",
    "e=data['xingming'].value_counts()\n",
    "print(e)\n",
    "\n",
    "print('\\nbiaoqian(标签):')\n",
    "f=data['biaoqian'].value_counts()\n",
    "print(f)\n",
    "\n",
    "print('\\ncjlouceng(成交楼层):')\n",
    "g=data['cjlouceng'].value_counts()\n",
    "print(g)\n",
    "\n",
    "print('\\ncjshijian(成交时间):')\n",
    "h=data['cjshijian'].value_counts()\n",
    "print(h)\n",
    "\n",
    "print('\\ncongyenianxian(从月年限):')\n",
    "i=data['congyenianxian'].value_counts()\n",
    "print(i)\n",
    "\n",
    "print('\\nbankuai(板块):')\n",
    "j=data['bankuai'].value_counts()\n",
    "print(j)"
   ]
  },
  {
   "cell_type": "code",
   "execution_count": null,
   "id": "3b00c170",
   "metadata": {},
   "outputs": [],
   "source": [
    "print('展示每一属性的5数统计(只对数值进行统计)：')"
   ]
  },
  {
   "cell_type": "code",
   "execution_count": null,
   "id": "08a804da",
   "metadata": {
    "scrolled": true
   },
   "outputs": [],
   "source": [
    "data['danjia'],_=data['cjdanjia'].str.split('元').str\n",
    "data['danjia']=data['danjia'].astype(int)\n",
    "data.describe()"
   ]
  },
  {
   "cell_type": "code",
   "execution_count": null,
   "id": "a7fb6868",
   "metadata": {},
   "outputs": [],
   "source": [
    "print('对上面的数值属性进行缺失值统计：\\n')\n",
    "print('cjzongjia:',data['cjzongjia'].isnull().sum())\n",
    "print('cjzhouqi:',data['cjzhouqi'].isnull().sum())\n",
    "print('danjia:',data['danjia'].isnull().sum())"
   ]
  },
  {
   "cell_type": "code",
   "execution_count": null,
   "id": "f69cad19",
   "metadata": {},
   "outputs": [],
   "source": [
    "data.head(5)"
   ]
  },
  {
   "cell_type": "code",
   "execution_count": null,
   "id": "dca5944f",
   "metadata": {
    "scrolled": true
   },
   "outputs": [],
   "source": [
    "print('数据可视化：\\n')\n",
    "field = ['cjzongjia','cjzhouqi','danjia']\n",
    "print('数据太多导致显示数据出现重叠看不清具体值，所以取前20个为例:')\n",
    "\n",
    "for fie in field:\n",
    "    print(\"{}前20个样例:\".format(fie))\n",
    "    data[fie].value_counts(sort=False).head(20).plot.barh()\n",
    "    plt.show()"
   ]
  },
  {
   "cell_type": "code",
   "execution_count": null,
   "id": "7b4bd30d",
   "metadata": {},
   "outputs": [],
   "source": [
    "print(\"画出不同店家的成交数量饼图\")\n",
    "label=[]\n",
    "for key in data['mendian'].value_counts().index:\n",
    "    label.append(key)\n",
    "\n",
    "data['mendian'].value_counts().plot.pie(labels=label, \n",
    "                 autopct='%.2f', fontsize=10,figsize=(12, 12))"
   ]
  },
  {
   "cell_type": "code",
   "execution_count": null,
   "id": "456f8832",
   "metadata": {},
   "outputs": [],
   "source": [
    "print(\"画出不同从月年限的饼图\")\n",
    "label=[]\n",
    "for key in data['congyenianxian'].value_counts().index:\n",
    "    label.append(key)\n",
    "\n",
    "data['congyenianxian'].value_counts().plot.pie(labels=label, \n",
    "                 autopct='%.2f', fontsize=15,figsize=(12, 12))"
   ]
  },
  {
   "cell_type": "code",
   "execution_count": null,
   "id": "abfd82e1",
   "metadata": {},
   "outputs": [],
   "source": [
    "print(\"画出不同板块（地区）的饼图\")\n",
    "label=[]\n",
    "for key in data['bankuai'].value_counts().index:\n",
    "    label.append(key)\n",
    "\n",
    "data['bankuai'].value_counts().plot.pie(labels=label, \n",
    "                 autopct='%.2f', fontsize=15,figsize=(12, 12))"
   ]
  },
  {
   "cell_type": "code",
   "execution_count": null,
   "id": "aeb22d0f",
   "metadata": {},
   "outputs": [],
   "source": [
    "print(\"画出不同标签的饼图\")\n",
    "label=[]\n",
    "for key in data['biaoqian'].value_counts().index:\n",
    "    label.append(key)\n",
    "\n",
    "data['biaoqian'].value_counts().plot.pie(labels=label, \n",
    "                 autopct='%.2f', fontsize=15,figsize=(12, 12))"
   ]
  },
  {
   "cell_type": "code",
   "execution_count": null,
   "id": "8eb8750a",
   "metadata": {},
   "outputs": [],
   "source": []
  }
 ],
 "metadata": {
  "kernelspec": {
   "name": "python3",
   "display_name": "Python 3.8.5 64-bit ('cv-base': conda)"
  },
  "language_info": {
   "codemirror_mode": {
    "name": "ipython",
    "version": 3
   },
   "file_extension": ".py",
   "mimetype": "text/x-python",
   "name": "python",
   "nbconvert_exporter": "python",
   "pygments_lexer": "ipython3",
   "version": "3.8.5"
  },
  "interpreter": {
   "hash": "35aca4c616bbe2be3554c7c605b90908c0748cd12fc8f4f08e6a36aa29d6c924"
  }
 },
 "nbformat": 4,
 "nbformat_minor": 5
}