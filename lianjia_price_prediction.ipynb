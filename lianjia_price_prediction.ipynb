{
 "metadata": {
  "language_info": {
   "codemirror_mode": {
    "name": "ipython",
    "version": 3
   },
   "file_extension": ".py",
   "mimetype": "text/x-python",
   "name": "python",
   "nbconvert_exporter": "python",
   "pygments_lexer": "ipython3",
   "version": "3.6.13"
  },
  "orig_nbformat": 2,
  "kernelspec": {
   "name": "python3",
   "display_name": "Python 3.6.13 64-bit ('nlp': conda)",
   "metadata": {
    "interpreter": {
     "hash": "9983508a69e72056c6e92d0f480194a3df50e64a32066f39f2020a82f17fbe06"
    }
   }
  }
 },
 "nbformat": 4,
 "nbformat_minor": 2,
 "cells": [
  {
   "cell_type": "code",
   "execution_count": 151,
   "metadata": {},
   "outputs": [
    {
     "output_type": "execute_result",
     "data": {
      "text/plain": [
       "   cjtaoshu mendian  cjzongjia zhiwei  haoping  cjdanjia         cjxiaoqu  \\\n",
       "0        37   红莲北里店      251.0    店经理  97% 141  43997元/平    红莲北里 3室1厅 57平   \n",
       "1        37   红莲北里店      159.0    店经理  97% 141  36969元/平    红莲南里 1室1厅 43平   \n",
       "2        37   红莲北里店      257.0    店经理  97% 141  39046元/平   常青藤嘉园 1室1厅 65平   \n",
       "3        37   红莲北里店      243.0    店经理  97% 141  41313元/平    红莲北里 2室1厅 58平   \n",
       "4        37   红莲北里店      372.5    店经理  97% 141  42053元/平  广安门外大街 3室1厅 88平   \n",
       "\n",
       "  xingming  cjzhouqi        biaoqian        cjlouceng        cjshijian  \\\n",
       "0      郭海龙        36  房东信赖;销售达人;带看活跃       南 北/高楼层/6层  签约时间：2015-05-24   \n",
       "1      郭海龙        36  房东信赖;销售达人;带看活跃         南/高楼层/7层  签约时间：2015-05-10   \n",
       "2      郭海龙        36  房东信赖;销售达人;带看活跃        北/低楼层/16层  签约时间：2015-04-26   \n",
       "3      郭海龙        36  房东信赖;销售达人;带看活跃       南 北/高楼层/6层  签约时间：2015-04-04   \n",
       "4      郭海龙        36  房东信赖;销售达人;带看活跃  东 南 西 北/中楼层/18层  签约时间：2015-04-01   \n",
       "\n",
       "  congyenianxian bankuai  \n",
       "0           4-5年     马连道  \n",
       "1           4-5年     马连道  \n",
       "2           4-5年     马连道  \n",
       "3           4-5年     马连道  \n",
       "4           4-5年     马连道  "
      ],
      "text/html": "<div>\n<style scoped>\n    .dataframe tbody tr th:only-of-type {\n        vertical-align: middle;\n    }\n\n    .dataframe tbody tr th {\n        vertical-align: top;\n    }\n\n    .dataframe thead th {\n        text-align: right;\n    }\n</style>\n<table border=\"1\" class=\"dataframe\">\n  <thead>\n    <tr style=\"text-align: right;\">\n      <th></th>\n      <th>cjtaoshu</th>\n      <th>mendian</th>\n      <th>cjzongjia</th>\n      <th>zhiwei</th>\n      <th>haoping</th>\n      <th>cjdanjia</th>\n      <th>cjxiaoqu</th>\n      <th>xingming</th>\n      <th>cjzhouqi</th>\n      <th>biaoqian</th>\n      <th>cjlouceng</th>\n      <th>cjshijian</th>\n      <th>congyenianxian</th>\n      <th>bankuai</th>\n    </tr>\n  </thead>\n  <tbody>\n    <tr>\n      <th>0</th>\n      <td>37</td>\n      <td>红莲北里店</td>\n      <td>251.0</td>\n      <td>店经理</td>\n      <td>97% 141</td>\n      <td>43997元/平</td>\n      <td>红莲北里 3室1厅 57平</td>\n      <td>郭海龙</td>\n      <td>36</td>\n      <td>房东信赖;销售达人;带看活跃</td>\n      <td>南 北/高楼层/6层</td>\n      <td>签约时间：2015-05-24</td>\n      <td>4-5年</td>\n      <td>马连道</td>\n    </tr>\n    <tr>\n      <th>1</th>\n      <td>37</td>\n      <td>红莲北里店</td>\n      <td>159.0</td>\n      <td>店经理</td>\n      <td>97% 141</td>\n      <td>36969元/平</td>\n      <td>红莲南里 1室1厅 43平</td>\n      <td>郭海龙</td>\n      <td>36</td>\n      <td>房东信赖;销售达人;带看活跃</td>\n      <td>南/高楼层/7层</td>\n      <td>签约时间：2015-05-10</td>\n      <td>4-5年</td>\n      <td>马连道</td>\n    </tr>\n    <tr>\n      <th>2</th>\n      <td>37</td>\n      <td>红莲北里店</td>\n      <td>257.0</td>\n      <td>店经理</td>\n      <td>97% 141</td>\n      <td>39046元/平</td>\n      <td>常青藤嘉园 1室1厅 65平</td>\n      <td>郭海龙</td>\n      <td>36</td>\n      <td>房东信赖;销售达人;带看活跃</td>\n      <td>北/低楼层/16层</td>\n      <td>签约时间：2015-04-26</td>\n      <td>4-5年</td>\n      <td>马连道</td>\n    </tr>\n    <tr>\n      <th>3</th>\n      <td>37</td>\n      <td>红莲北里店</td>\n      <td>243.0</td>\n      <td>店经理</td>\n      <td>97% 141</td>\n      <td>41313元/平</td>\n      <td>红莲北里 2室1厅 58平</td>\n      <td>郭海龙</td>\n      <td>36</td>\n      <td>房东信赖;销售达人;带看活跃</td>\n      <td>南 北/高楼层/6层</td>\n      <td>签约时间：2015-04-04</td>\n      <td>4-5年</td>\n      <td>马连道</td>\n    </tr>\n    <tr>\n      <th>4</th>\n      <td>37</td>\n      <td>红莲北里店</td>\n      <td>372.5</td>\n      <td>店经理</td>\n      <td>97% 141</td>\n      <td>42053元/平</td>\n      <td>广安门外大街 3室1厅 88平</td>\n      <td>郭海龙</td>\n      <td>36</td>\n      <td>房东信赖;销售达人;带看活跃</td>\n      <td>东 南 西 北/中楼层/18层</td>\n      <td>签约时间：2015-04-01</td>\n      <td>4-5年</td>\n      <td>马连道</td>\n    </tr>\n  </tbody>\n</table>\n</div>"
     },
     "metadata": {},
     "execution_count": 151
    }
   ],
   "source": [
    "import numpy as np\n",
    "import pandas as pd\n",
    "import matplotlib.pyplot as plt\n",
    "%matplotlib inline\n",
    "f=open(r'./data/lianjia1.csv',encoding='gbk')\n",
    "data=pd.read_csv(f)\n",
    "#print(len(data)) 1536\n",
    "data.head()"
   ]
  },
  {
   "cell_type": "code",
   "execution_count": 152,
   "metadata": {},
   "outputs": [
    {
     "output_type": "stream",
     "name": "stdout",
     "text": [
      "162227\n"
     ]
    },
    {
     "output_type": "execute_result",
     "data": {
      "text/plain": [
       "      cjtaoshu mendian  cjzongjia zhiwei  haoping  cjdanjia  \\\n",
       "6676         5  夏威夷南岸店       65.0    经纪人  100% 17  12467元/平   \n",
       "6677         4   加州水郡店      193.0    经纪人   95% 21  36156元/平   \n",
       "6678         4   加州水郡店      295.0    经纪人   95% 21  33909元/平   \n",
       "6679         4   加州水郡店      310.0    经纪人   95% 21  21075元/平   \n",
       "6680         4   加州水郡店      120.0    经纪人   95% 21  25494元/平   \n",
       "\n",
       "               cjxiaoqu xingming cjzhouqi biaoqian      cjlouceng  \\\n",
       "6676  福城上上城二季 1室--厅 52平      武晓影       73     客户热评      南/低楼层/18层   \n",
       "6677    大宁山庄四区 1室1厅 53平      董玉俏        6      NaN       南/中楼层/6层   \n",
       "6678    加州水郡三期 2室1厅 87平      董玉俏        6      NaN    南 北/高楼层/15层   \n",
       "6679   加州水郡三期 3室2厅 147平      董玉俏        6      NaN  东 南 北/低楼层/14层   \n",
       "6680     新建巷小区 1室1厅 47平      董玉俏        6      NaN       南/中楼层/4层   \n",
       "\n",
       "            cjshijian congyenianxian bankuai  \n",
       "6676  签约时间：2015-12-02           1-2年     NaN  \n",
       "6677  签约时间：2016-10-16            <1年      长阳  \n",
       "6678  签约时间：2016-09-24            <1年      长阳  \n",
       "6679  签约时间：2016-09-17            <1年      长阳  \n",
       "6680  签约时间：2016-09-14            <1年      长阳  "
      ],
      "text/html": "<div>\n<style scoped>\n    .dataframe tbody tr th:only-of-type {\n        vertical-align: middle;\n    }\n\n    .dataframe tbody tr th {\n        vertical-align: top;\n    }\n\n    .dataframe thead th {\n        text-align: right;\n    }\n</style>\n<table border=\"1\" class=\"dataframe\">\n  <thead>\n    <tr style=\"text-align: right;\">\n      <th></th>\n      <th>cjtaoshu</th>\n      <th>mendian</th>\n      <th>cjzongjia</th>\n      <th>zhiwei</th>\n      <th>haoping</th>\n      <th>cjdanjia</th>\n      <th>cjxiaoqu</th>\n      <th>xingming</th>\n      <th>cjzhouqi</th>\n      <th>biaoqian</th>\n      <th>cjlouceng</th>\n      <th>cjshijian</th>\n      <th>congyenianxian</th>\n      <th>bankuai</th>\n    </tr>\n  </thead>\n  <tbody>\n    <tr>\n      <th>6676</th>\n      <td>5</td>\n      <td>夏威夷南岸店</td>\n      <td>65.0</td>\n      <td>经纪人</td>\n      <td>100% 17</td>\n      <td>12467元/平</td>\n      <td>福城上上城二季 1室--厅 52平</td>\n      <td>武晓影</td>\n      <td>73</td>\n      <td>客户热评</td>\n      <td>南/低楼层/18层</td>\n      <td>签约时间：2015-12-02</td>\n      <td>1-2年</td>\n      <td>NaN</td>\n    </tr>\n    <tr>\n      <th>6677</th>\n      <td>4</td>\n      <td>加州水郡店</td>\n      <td>193.0</td>\n      <td>经纪人</td>\n      <td>95% 21</td>\n      <td>36156元/平</td>\n      <td>大宁山庄四区 1室1厅 53平</td>\n      <td>董玉俏</td>\n      <td>6</td>\n      <td>NaN</td>\n      <td>南/中楼层/6层</td>\n      <td>签约时间：2016-10-16</td>\n      <td>&lt;1年</td>\n      <td>长阳</td>\n    </tr>\n    <tr>\n      <th>6678</th>\n      <td>4</td>\n      <td>加州水郡店</td>\n      <td>295.0</td>\n      <td>经纪人</td>\n      <td>95% 21</td>\n      <td>33909元/平</td>\n      <td>加州水郡三期 2室1厅 87平</td>\n      <td>董玉俏</td>\n      <td>6</td>\n      <td>NaN</td>\n      <td>南 北/高楼层/15层</td>\n      <td>签约时间：2016-09-24</td>\n      <td>&lt;1年</td>\n      <td>长阳</td>\n    </tr>\n    <tr>\n      <th>6679</th>\n      <td>4</td>\n      <td>加州水郡店</td>\n      <td>310.0</td>\n      <td>经纪人</td>\n      <td>95% 21</td>\n      <td>21075元/平</td>\n      <td>加州水郡三期 3室2厅 147平</td>\n      <td>董玉俏</td>\n      <td>6</td>\n      <td>NaN</td>\n      <td>东 南 北/低楼层/14层</td>\n      <td>签约时间：2016-09-17</td>\n      <td>&lt;1年</td>\n      <td>长阳</td>\n    </tr>\n    <tr>\n      <th>6680</th>\n      <td>4</td>\n      <td>加州水郡店</td>\n      <td>120.0</td>\n      <td>经纪人</td>\n      <td>95% 21</td>\n      <td>25494元/平</td>\n      <td>新建巷小区 1室1厅 47平</td>\n      <td>董玉俏</td>\n      <td>6</td>\n      <td>NaN</td>\n      <td>南/中楼层/4层</td>\n      <td>签约时间：2016-09-14</td>\n      <td>&lt;1年</td>\n      <td>长阳</td>\n    </tr>\n  </tbody>\n</table>\n</div>"
     },
     "metadata": {},
     "execution_count": 152
    }
   ],
   "source": [
    "# 拼接8个数据集\n",
    "data_list=[]\n",
    "for i in range(1,8):\n",
    "    try:\n",
    "        f=open(r'./data/lianjia{}.csv'.format(i),encoding='gbk')\n",
    "        data=pd.read_csv(f)\n",
    "    except:\n",
    "        f=open(r'./data/lianjia{}.csv'.format(i),encoding='utf-8')\n",
    "        data=pd.read_csv(f)\n",
    "    data_list.append(data)\n",
    "data = pd.concat(data_list)\n",
    "print(len(data)) # 数据总量为162227\n",
    "data.tail()"
   ]
  },
  {
   "cell_type": "code",
   "execution_count": 153,
   "metadata": {},
   "outputs": [
    {
     "output_type": "execute_result",
     "data": {
      "text/plain": [
       "            cjtaoshu      cjzongjia\n",
       "count  162227.000000  162226.000000\n",
       "mean       29.111923     317.481277\n",
       "std        19.607250     207.472106\n",
       "min         1.000000       0.000000\n",
       "25%        16.000000     190.000000\n",
       "50%        26.000000     266.000000\n",
       "75%        38.000000     385.000000\n",
       "max       186.000000    6000.000000"
      ],
      "text/html": "<div>\n<style scoped>\n    .dataframe tbody tr th:only-of-type {\n        vertical-align: middle;\n    }\n\n    .dataframe tbody tr th {\n        vertical-align: top;\n    }\n\n    .dataframe thead th {\n        text-align: right;\n    }\n</style>\n<table border=\"1\" class=\"dataframe\">\n  <thead>\n    <tr style=\"text-align: right;\">\n      <th></th>\n      <th>cjtaoshu</th>\n      <th>cjzongjia</th>\n    </tr>\n  </thead>\n  <tbody>\n    <tr>\n      <th>count</th>\n      <td>162227.000000</td>\n      <td>162226.000000</td>\n    </tr>\n    <tr>\n      <th>mean</th>\n      <td>29.111923</td>\n      <td>317.481277</td>\n    </tr>\n    <tr>\n      <th>std</th>\n      <td>19.607250</td>\n      <td>207.472106</td>\n    </tr>\n    <tr>\n      <th>min</th>\n      <td>1.000000</td>\n      <td>0.000000</td>\n    </tr>\n    <tr>\n      <th>25%</th>\n      <td>16.000000</td>\n      <td>190.000000</td>\n    </tr>\n    <tr>\n      <th>50%</th>\n      <td>26.000000</td>\n      <td>266.000000</td>\n    </tr>\n    <tr>\n      <th>75%</th>\n      <td>38.000000</td>\n      <td>385.000000</td>\n    </tr>\n    <tr>\n      <th>max</th>\n      <td>186.000000</td>\n      <td>6000.000000</td>\n    </tr>\n  </tbody>\n</table>\n</div>"
     },
     "metadata": {},
     "execution_count": 153
    }
   ],
   "source": [
    "#查看数据描述\n",
    "data.describe()"
   ]
  },
  {
   "cell_type": "code",
   "execution_count": 154,
   "metadata": {},
   "outputs": [
    {
     "output_type": "stream",
     "name": "stdout",
     "text": [
      "<class 'pandas.core.frame.DataFrame'>\nInt64Index: 162227 entries, 0 to 6680\nData columns (total 14 columns):\n #   Column          Non-Null Count   Dtype  \n---  ------          --------------   -----  \n 0   cjtaoshu        162227 non-null  int64  \n 1   mendian         162214 non-null  object \n 2   cjzongjia       162226 non-null  float64\n 3   zhiwei          162226 non-null  object \n 4   haoping         162226 non-null  object \n 5   cjdanjia        162226 non-null  object \n 6   cjxiaoqu        162226 non-null  object \n 7   xingming        162226 non-null  object \n 8   cjzhouqi        162226 non-null  object \n 9   biaoqian        145553 non-null  object \n 10  cjlouceng       162226 non-null  object \n 11  cjshijian       162226 non-null  object \n 12  congyenianxian  162226 non-null  object \n 13  bankuai         160906 non-null  object \ndtypes: float64(1), int64(1), object(12)\nmemory usage: 18.6+ MB\n"
     ]
    }
   ],
   "source": [
    "#查看数据描述\n",
    "data.info()"
   ]
  },
  {
   "cell_type": "code",
   "execution_count": 155,
   "metadata": {},
   "outputs": [
    {
     "output_type": "execute_result",
     "data": {
      "text/plain": [
       "   cjtaoshu mendian  cjzongjia zhiwei         cjxiaoqu        cjlouceng  \\\n",
       "0        37   红莲北里店      251.0    店经理    红莲北里 3室1厅 57平       南 北/高楼层/6层   \n",
       "1        37   红莲北里店      159.0    店经理    红莲南里 1室1厅 43平         南/高楼层/7层   \n",
       "2        37   红莲北里店      257.0    店经理   常青藤嘉园 1室1厅 65平        北/低楼层/16层   \n",
       "3        37   红莲北里店      243.0    店经理    红莲北里 2室1厅 58平       南 北/高楼层/6层   \n",
       "4        37   红莲北里店      372.5    店经理  广安门外大街 3室1厅 88平  东 南 西 北/中楼层/18层   \n",
       "\n",
       "         cjshijian bankuai  \n",
       "0  签约时间：2015-05-24     马连道  \n",
       "1  签约时间：2015-05-10     马连道  \n",
       "2  签约时间：2015-04-26     马连道  \n",
       "3  签约时间：2015-04-04     马连道  \n",
       "4  签约时间：2015-04-01     马连道  "
      ],
      "text/html": "<div>\n<style scoped>\n    .dataframe tbody tr th:only-of-type {\n        vertical-align: middle;\n    }\n\n    .dataframe tbody tr th {\n        vertical-align: top;\n    }\n\n    .dataframe thead th {\n        text-align: right;\n    }\n</style>\n<table border=\"1\" class=\"dataframe\">\n  <thead>\n    <tr style=\"text-align: right;\">\n      <th></th>\n      <th>cjtaoshu</th>\n      <th>mendian</th>\n      <th>cjzongjia</th>\n      <th>zhiwei</th>\n      <th>cjxiaoqu</th>\n      <th>cjlouceng</th>\n      <th>cjshijian</th>\n      <th>bankuai</th>\n    </tr>\n  </thead>\n  <tbody>\n    <tr>\n      <th>0</th>\n      <td>37</td>\n      <td>红莲北里店</td>\n      <td>251.0</td>\n      <td>店经理</td>\n      <td>红莲北里 3室1厅 57平</td>\n      <td>南 北/高楼层/6层</td>\n      <td>签约时间：2015-05-24</td>\n      <td>马连道</td>\n    </tr>\n    <tr>\n      <th>1</th>\n      <td>37</td>\n      <td>红莲北里店</td>\n      <td>159.0</td>\n      <td>店经理</td>\n      <td>红莲南里 1室1厅 43平</td>\n      <td>南/高楼层/7层</td>\n      <td>签约时间：2015-05-10</td>\n      <td>马连道</td>\n    </tr>\n    <tr>\n      <th>2</th>\n      <td>37</td>\n      <td>红莲北里店</td>\n      <td>257.0</td>\n      <td>店经理</td>\n      <td>常青藤嘉园 1室1厅 65平</td>\n      <td>北/低楼层/16层</td>\n      <td>签约时间：2015-04-26</td>\n      <td>马连道</td>\n    </tr>\n    <tr>\n      <th>3</th>\n      <td>37</td>\n      <td>红莲北里店</td>\n      <td>243.0</td>\n      <td>店经理</td>\n      <td>红莲北里 2室1厅 58平</td>\n      <td>南 北/高楼层/6层</td>\n      <td>签约时间：2015-04-04</td>\n      <td>马连道</td>\n    </tr>\n    <tr>\n      <th>4</th>\n      <td>37</td>\n      <td>红莲北里店</td>\n      <td>372.5</td>\n      <td>店经理</td>\n      <td>广安门外大街 3室1厅 88平</td>\n      <td>东 南 西 北/中楼层/18层</td>\n      <td>签约时间：2015-04-01</td>\n      <td>马连道</td>\n    </tr>\n  </tbody>\n</table>\n</div>"
     },
     "metadata": {},
     "execution_count": 155
    }
   ],
   "source": [
    "# 抽取8个特征进行分析\n",
    "data=data[['cjtaoshu','mendian','cjzongjia','zhiwei','cjxiaoqu','cjlouceng','cjshijian','bankuai']]\n",
    "data.head()"
   ]
  },
  {
   "cell_type": "code",
   "execution_count": 156,
   "metadata": {},
   "outputs": [
    {
     "output_type": "stream",
     "name": "stdout",
     "text": [
      "处理后数据集大小： 143763\n"
     ]
    }
   ],
   "source": [
    "# 对汇总数据进行清洗\n",
    "data.dropna(how='any')\n",
    "data.drop_duplicates(keep='first', inplace=True)\n",
    "# 删除其中总价有异常的数据\n",
    "data = data.loc[data['cjzongjia']>50.0]\n",
    "print(\"处理后数据集大小：\",len(data))"
   ]
  },
  {
   "cell_type": "code",
   "execution_count": 157,
   "metadata": {},
   "outputs": [
    {
     "output_type": "execute_result",
     "data": {
      "text/plain": [
       "   cjtaoshu  mendian  cjzongjia zhiwei         cjxiaoqu        cjlouceng  \\\n",
       "0        37        1      251.0    店经理    红莲北里 3室1厅 57平       南 北/高楼层/6层   \n",
       "1        37        1      159.0    店经理    红莲南里 1室1厅 43平         南/高楼层/7层   \n",
       "2        37        1      257.0    店经理   常青藤嘉园 1室1厅 65平        北/低楼层/16层   \n",
       "3        37        1      243.0    店经理    红莲北里 2室1厅 58平       南 北/高楼层/6层   \n",
       "4        37        1      372.5    店经理  广安门外大街 3室1厅 88平  东 南 西 北/中楼层/18层   \n",
       "\n",
       "         cjshijian bankuai  \n",
       "0  签约时间：2015-05-24     马连道  \n",
       "1  签约时间：2015-05-10     马连道  \n",
       "2  签约时间：2015-04-26     马连道  \n",
       "3  签约时间：2015-04-04     马连道  \n",
       "4  签约时间：2015-04-01     马连道  "
      ],
      "text/html": "<div>\n<style scoped>\n    .dataframe tbody tr th:only-of-type {\n        vertical-align: middle;\n    }\n\n    .dataframe tbody tr th {\n        vertical-align: top;\n    }\n\n    .dataframe thead th {\n        text-align: right;\n    }\n</style>\n<table border=\"1\" class=\"dataframe\">\n  <thead>\n    <tr style=\"text-align: right;\">\n      <th></th>\n      <th>cjtaoshu</th>\n      <th>mendian</th>\n      <th>cjzongjia</th>\n      <th>zhiwei</th>\n      <th>cjxiaoqu</th>\n      <th>cjlouceng</th>\n      <th>cjshijian</th>\n      <th>bankuai</th>\n    </tr>\n  </thead>\n  <tbody>\n    <tr>\n      <th>0</th>\n      <td>37</td>\n      <td>1</td>\n      <td>251.0</td>\n      <td>店经理</td>\n      <td>红莲北里 3室1厅 57平</td>\n      <td>南 北/高楼层/6层</td>\n      <td>签约时间：2015-05-24</td>\n      <td>马连道</td>\n    </tr>\n    <tr>\n      <th>1</th>\n      <td>37</td>\n      <td>1</td>\n      <td>159.0</td>\n      <td>店经理</td>\n      <td>红莲南里 1室1厅 43平</td>\n      <td>南/高楼层/7层</td>\n      <td>签约时间：2015-05-10</td>\n      <td>马连道</td>\n    </tr>\n    <tr>\n      <th>2</th>\n      <td>37</td>\n      <td>1</td>\n      <td>257.0</td>\n      <td>店经理</td>\n      <td>常青藤嘉园 1室1厅 65平</td>\n      <td>北/低楼层/16层</td>\n      <td>签约时间：2015-04-26</td>\n      <td>马连道</td>\n    </tr>\n    <tr>\n      <th>3</th>\n      <td>37</td>\n      <td>1</td>\n      <td>243.0</td>\n      <td>店经理</td>\n      <td>红莲北里 2室1厅 58平</td>\n      <td>南 北/高楼层/6层</td>\n      <td>签约时间：2015-04-04</td>\n      <td>马连道</td>\n    </tr>\n    <tr>\n      <th>4</th>\n      <td>37</td>\n      <td>1</td>\n      <td>372.5</td>\n      <td>店经理</td>\n      <td>广安门外大街 3室1厅 88平</td>\n      <td>东 南 西 北/中楼层/18层</td>\n      <td>签约时间：2015-04-01</td>\n      <td>马连道</td>\n    </tr>\n  </tbody>\n</table>\n</div>"
     },
     "metadata": {},
     "execution_count": 157
    }
   ],
   "source": [
    "# 处理特征mendian\n",
    "mendian_map = data['mendian'].unique()\n",
    "mendian_dict = {}\n",
    "for i in range(0, len(mendian_map)):\n",
    "    x = {mendian_map[i]:int(i+1)}\n",
    "    mendian_dict.update(x)\n",
    "data['mendian'] = data['mendian'].map(mendian_dict)\n",
    "data.head()"
   ]
  },
  {
   "cell_type": "code",
   "execution_count": 158,
   "metadata": {},
   "outputs": [
    {
     "output_type": "execute_result",
     "data": {
      "text/plain": [
       "   cjtaoshu  mendian  cjzongjia  zhiwei         cjxiaoqu        cjlouceng  \\\n",
       "0        37        1      251.0       1    红莲北里 3室1厅 57平       南 北/高楼层/6层   \n",
       "1        37        1      159.0       1    红莲南里 1室1厅 43平         南/高楼层/7层   \n",
       "2        37        1      257.0       1   常青藤嘉园 1室1厅 65平        北/低楼层/16层   \n",
       "3        37        1      243.0       1    红莲北里 2室1厅 58平       南 北/高楼层/6层   \n",
       "4        37        1      372.5       1  广安门外大街 3室1厅 88平  东 南 西 北/中楼层/18层   \n",
       "\n",
       "         cjshijian bankuai  \n",
       "0  签约时间：2015-05-24     马连道  \n",
       "1  签约时间：2015-05-10     马连道  \n",
       "2  签约时间：2015-04-26     马连道  \n",
       "3  签约时间：2015-04-04     马连道  \n",
       "4  签约时间：2015-04-01     马连道  "
      ],
      "text/html": "<div>\n<style scoped>\n    .dataframe tbody tr th:only-of-type {\n        vertical-align: middle;\n    }\n\n    .dataframe tbody tr th {\n        vertical-align: top;\n    }\n\n    .dataframe thead th {\n        text-align: right;\n    }\n</style>\n<table border=\"1\" class=\"dataframe\">\n  <thead>\n    <tr style=\"text-align: right;\">\n      <th></th>\n      <th>cjtaoshu</th>\n      <th>mendian</th>\n      <th>cjzongjia</th>\n      <th>zhiwei</th>\n      <th>cjxiaoqu</th>\n      <th>cjlouceng</th>\n      <th>cjshijian</th>\n      <th>bankuai</th>\n    </tr>\n  </thead>\n  <tbody>\n    <tr>\n      <th>0</th>\n      <td>37</td>\n      <td>1</td>\n      <td>251.0</td>\n      <td>1</td>\n      <td>红莲北里 3室1厅 57平</td>\n      <td>南 北/高楼层/6层</td>\n      <td>签约时间：2015-05-24</td>\n      <td>马连道</td>\n    </tr>\n    <tr>\n      <th>1</th>\n      <td>37</td>\n      <td>1</td>\n      <td>159.0</td>\n      <td>1</td>\n      <td>红莲南里 1室1厅 43平</td>\n      <td>南/高楼层/7层</td>\n      <td>签约时间：2015-05-10</td>\n      <td>马连道</td>\n    </tr>\n    <tr>\n      <th>2</th>\n      <td>37</td>\n      <td>1</td>\n      <td>257.0</td>\n      <td>1</td>\n      <td>常青藤嘉园 1室1厅 65平</td>\n      <td>北/低楼层/16层</td>\n      <td>签约时间：2015-04-26</td>\n      <td>马连道</td>\n    </tr>\n    <tr>\n      <th>3</th>\n      <td>37</td>\n      <td>1</td>\n      <td>243.0</td>\n      <td>1</td>\n      <td>红莲北里 2室1厅 58平</td>\n      <td>南 北/高楼层/6层</td>\n      <td>签约时间：2015-04-04</td>\n      <td>马连道</td>\n    </tr>\n    <tr>\n      <th>4</th>\n      <td>37</td>\n      <td>1</td>\n      <td>372.5</td>\n      <td>1</td>\n      <td>广安门外大街 3室1厅 88平</td>\n      <td>东 南 西 北/中楼层/18层</td>\n      <td>签约时间：2015-04-01</td>\n      <td>马连道</td>\n    </tr>\n  </tbody>\n</table>\n</div>"
     },
     "metadata": {},
     "execution_count": 158
    }
   ],
   "source": [
    "# 处理特征zhiwei\n",
    "zhiwei_map = data['zhiwei'].unique()\n",
    "zhiwei_dict = {}\n",
    "for i in range(0, len(zhiwei_map)):\n",
    "    x = {zhiwei_map[i]:int(i+1)}\n",
    "    zhiwei_dict.update(x)\n",
    "data['zhiwei'] = data['zhiwei'].map(zhiwei_dict)\n",
    "data.head()"
   ]
  },
  {
   "cell_type": "code",
   "execution_count": 159,
   "metadata": {},
   "outputs": [
    {
     "output_type": "execute_result",
     "data": {
      "text/plain": [
       "   cjtaoshu  mendian  cjzongjia  zhiwei         cjxiaoqu        cjlouceng  \\\n",
       "0        37        1      251.0       1    红莲北里 3室1厅 57平       南 北/高楼层/6层   \n",
       "1        37        1      159.0       1    红莲南里 1室1厅 43平         南/高楼层/7层   \n",
       "2        37        1      257.0       1   常青藤嘉园 1室1厅 65平        北/低楼层/16层   \n",
       "3        37        1      243.0       1    红莲北里 2室1厅 58平       南 北/高楼层/6层   \n",
       "4        37        1      372.5       1  广安门外大街 3室1厅 88平  东 南 西 北/中楼层/18层   \n",
       "\n",
       "         cjshijian  bankuai  \n",
       "0  签约时间：2015-05-24        1  \n",
       "1  签约时间：2015-05-10        1  \n",
       "2  签约时间：2015-04-26        1  \n",
       "3  签约时间：2015-04-04        1  \n",
       "4  签约时间：2015-04-01        1  "
      ],
      "text/html": "<div>\n<style scoped>\n    .dataframe tbody tr th:only-of-type {\n        vertical-align: middle;\n    }\n\n    .dataframe tbody tr th {\n        vertical-align: top;\n    }\n\n    .dataframe thead th {\n        text-align: right;\n    }\n</style>\n<table border=\"1\" class=\"dataframe\">\n  <thead>\n    <tr style=\"text-align: right;\">\n      <th></th>\n      <th>cjtaoshu</th>\n      <th>mendian</th>\n      <th>cjzongjia</th>\n      <th>zhiwei</th>\n      <th>cjxiaoqu</th>\n      <th>cjlouceng</th>\n      <th>cjshijian</th>\n      <th>bankuai</th>\n    </tr>\n  </thead>\n  <tbody>\n    <tr>\n      <th>0</th>\n      <td>37</td>\n      <td>1</td>\n      <td>251.0</td>\n      <td>1</td>\n      <td>红莲北里 3室1厅 57平</td>\n      <td>南 北/高楼层/6层</td>\n      <td>签约时间：2015-05-24</td>\n      <td>1</td>\n    </tr>\n    <tr>\n      <th>1</th>\n      <td>37</td>\n      <td>1</td>\n      <td>159.0</td>\n      <td>1</td>\n      <td>红莲南里 1室1厅 43平</td>\n      <td>南/高楼层/7层</td>\n      <td>签约时间：2015-05-10</td>\n      <td>1</td>\n    </tr>\n    <tr>\n      <th>2</th>\n      <td>37</td>\n      <td>1</td>\n      <td>257.0</td>\n      <td>1</td>\n      <td>常青藤嘉园 1室1厅 65平</td>\n      <td>北/低楼层/16层</td>\n      <td>签约时间：2015-04-26</td>\n      <td>1</td>\n    </tr>\n    <tr>\n      <th>3</th>\n      <td>37</td>\n      <td>1</td>\n      <td>243.0</td>\n      <td>1</td>\n      <td>红莲北里 2室1厅 58平</td>\n      <td>南 北/高楼层/6层</td>\n      <td>签约时间：2015-04-04</td>\n      <td>1</td>\n    </tr>\n    <tr>\n      <th>4</th>\n      <td>37</td>\n      <td>1</td>\n      <td>372.5</td>\n      <td>1</td>\n      <td>广安门外大街 3室1厅 88平</td>\n      <td>东 南 西 北/中楼层/18层</td>\n      <td>签约时间：2015-04-01</td>\n      <td>1</td>\n    </tr>\n  </tbody>\n</table>\n</div>"
     },
     "metadata": {},
     "execution_count": 159
    }
   ],
   "source": [
    "# 处理特征bankuai\n",
    "bankuai_map = data['bankuai'].unique()\n",
    "bankuai_dict = {}\n",
    "for i in range(0, len(bankuai_map)):\n",
    "    x = {bankuai_map[i]:int(i+1)}\n",
    "    bankuai_dict.update(x)\n",
    "data['bankuai'] = data['bankuai'].map(bankuai_dict)\n",
    "data.head()"
   ]
  },
  {
   "cell_type": "code",
   "execution_count": 160,
   "metadata": {},
   "outputs": [
    {
     "output_type": "execute_result",
     "data": {
      "text/plain": [
       "      cjtaoshu  mendian  cjzongjia  zhiwei           cjxiaoqu  \\\n",
       "0           37        1      251.0       1      红莲北里 3室1厅 57平   \n",
       "1           37        1      159.0       1      红莲南里 1室1厅 43平   \n",
       "2           37        1      257.0       1     常青藤嘉园 1室1厅 65平   \n",
       "3           37        1      243.0       1      红莲北里 2室1厅 58平   \n",
       "4           37        1      372.5       1    广安门外大街 3室1厅 88平   \n",
       "...        ...      ...        ...     ...                ...   \n",
       "6676         5     1472       65.0       2  福城上上城二季 1室--厅 52平   \n",
       "6677         4     1417      193.0       2    大宁山庄四区 1室1厅 53平   \n",
       "6678         4     1417      295.0       2    加州水郡三期 2室1厅 87平   \n",
       "6679         4     1417      310.0       2   加州水郡三期 3室2厅 147平   \n",
       "6680         4     1417      120.0       2     新建巷小区 1室1厅 47平   \n",
       "\n",
       "            cjlouceng        cjshijian  bankuai  xiaoqu  \n",
       "0          南 北/高楼层/6层  签约时间：2015-05-24        1       1  \n",
       "1            南/高楼层/7层  签约时间：2015-05-10        1       2  \n",
       "2           北/低楼层/16层  签约时间：2015-04-26        1       3  \n",
       "3          南 北/高楼层/6层  签约时间：2015-04-04        1       1  \n",
       "4     东 南 西 北/中楼层/18层  签约时间：2015-04-01        1       4  \n",
       "...               ...              ...      ...     ...  \n",
       "6676        南/低楼层/18层  签约时间：2015-12-02      187    5627  \n",
       "6677         南/中楼层/6层  签约时间：2016-10-16       88    4993  \n",
       "6678      南 北/高楼层/15层  签约时间：2016-09-24       88    3495  \n",
       "6679    东 南 北/低楼层/14层  签约时间：2016-09-17       88    3495  \n",
       "6680         南/中楼层/4层  签约时间：2016-09-14       88    5265  \n",
       "\n",
       "[143763 rows x 9 columns]"
      ],
      "text/html": "<div>\n<style scoped>\n    .dataframe tbody tr th:only-of-type {\n        vertical-align: middle;\n    }\n\n    .dataframe tbody tr th {\n        vertical-align: top;\n    }\n\n    .dataframe thead th {\n        text-align: right;\n    }\n</style>\n<table border=\"1\" class=\"dataframe\">\n  <thead>\n    <tr style=\"text-align: right;\">\n      <th></th>\n      <th>cjtaoshu</th>\n      <th>mendian</th>\n      <th>cjzongjia</th>\n      <th>zhiwei</th>\n      <th>cjxiaoqu</th>\n      <th>cjlouceng</th>\n      <th>cjshijian</th>\n      <th>bankuai</th>\n      <th>xiaoqu</th>\n    </tr>\n  </thead>\n  <tbody>\n    <tr>\n      <th>0</th>\n      <td>37</td>\n      <td>1</td>\n      <td>251.0</td>\n      <td>1</td>\n      <td>红莲北里 3室1厅 57平</td>\n      <td>南 北/高楼层/6层</td>\n      <td>签约时间：2015-05-24</td>\n      <td>1</td>\n      <td>1</td>\n    </tr>\n    <tr>\n      <th>1</th>\n      <td>37</td>\n      <td>1</td>\n      <td>159.0</td>\n      <td>1</td>\n      <td>红莲南里 1室1厅 43平</td>\n      <td>南/高楼层/7层</td>\n      <td>签约时间：2015-05-10</td>\n      <td>1</td>\n      <td>2</td>\n    </tr>\n    <tr>\n      <th>2</th>\n      <td>37</td>\n      <td>1</td>\n      <td>257.0</td>\n      <td>1</td>\n      <td>常青藤嘉园 1室1厅 65平</td>\n      <td>北/低楼层/16层</td>\n      <td>签约时间：2015-04-26</td>\n      <td>1</td>\n      <td>3</td>\n    </tr>\n    <tr>\n      <th>3</th>\n      <td>37</td>\n      <td>1</td>\n      <td>243.0</td>\n      <td>1</td>\n      <td>红莲北里 2室1厅 58平</td>\n      <td>南 北/高楼层/6层</td>\n      <td>签约时间：2015-04-04</td>\n      <td>1</td>\n      <td>1</td>\n    </tr>\n    <tr>\n      <th>4</th>\n      <td>37</td>\n      <td>1</td>\n      <td>372.5</td>\n      <td>1</td>\n      <td>广安门外大街 3室1厅 88平</td>\n      <td>东 南 西 北/中楼层/18层</td>\n      <td>签约时间：2015-04-01</td>\n      <td>1</td>\n      <td>4</td>\n    </tr>\n    <tr>\n      <th>...</th>\n      <td>...</td>\n      <td>...</td>\n      <td>...</td>\n      <td>...</td>\n      <td>...</td>\n      <td>...</td>\n      <td>...</td>\n      <td>...</td>\n      <td>...</td>\n    </tr>\n    <tr>\n      <th>6676</th>\n      <td>5</td>\n      <td>1472</td>\n      <td>65.0</td>\n      <td>2</td>\n      <td>福城上上城二季 1室--厅 52平</td>\n      <td>南/低楼层/18层</td>\n      <td>签约时间：2015-12-02</td>\n      <td>187</td>\n      <td>5627</td>\n    </tr>\n    <tr>\n      <th>6677</th>\n      <td>4</td>\n      <td>1417</td>\n      <td>193.0</td>\n      <td>2</td>\n      <td>大宁山庄四区 1室1厅 53平</td>\n      <td>南/中楼层/6层</td>\n      <td>签约时间：2016-10-16</td>\n      <td>88</td>\n      <td>4993</td>\n    </tr>\n    <tr>\n      <th>6678</th>\n      <td>4</td>\n      <td>1417</td>\n      <td>295.0</td>\n      <td>2</td>\n      <td>加州水郡三期 2室1厅 87平</td>\n      <td>南 北/高楼层/15层</td>\n      <td>签约时间：2016-09-24</td>\n      <td>88</td>\n      <td>3495</td>\n    </tr>\n    <tr>\n      <th>6679</th>\n      <td>4</td>\n      <td>1417</td>\n      <td>310.0</td>\n      <td>2</td>\n      <td>加州水郡三期 3室2厅 147平</td>\n      <td>东 南 北/低楼层/14层</td>\n      <td>签约时间：2016-09-17</td>\n      <td>88</td>\n      <td>3495</td>\n    </tr>\n    <tr>\n      <th>6680</th>\n      <td>4</td>\n      <td>1417</td>\n      <td>120.0</td>\n      <td>2</td>\n      <td>新建巷小区 1室1厅 47平</td>\n      <td>南/中楼层/4层</td>\n      <td>签约时间：2016-09-14</td>\n      <td>88</td>\n      <td>5265</td>\n    </tr>\n  </tbody>\n</table>\n<p>143763 rows × 9 columns</p>\n</div>"
     },
     "metadata": {},
     "execution_count": 160
    }
   ],
   "source": [
    "# 处理特征cjxiaoqu:分成三个特征：xiaoqu，buju，daxiao\n",
    "# 首先处理特征小区:xiaoqu\n",
    "data['xiaoqu'] = data.cjxiaoqu.map(lambda x:x.split(' ')[0])\n",
    "xiaoqu_map = data['xiaoqu'].unique()\n",
    "xiaoqu_dict = {}\n",
    "for i in range(0, len(xiaoqu_map)):\n",
    "    x = {xiaoqu_map[i]:int(i+1)}\n",
    "    xiaoqu_dict.update(x)\n",
    "data['xiaoqu'] = data['xiaoqu'].map(xiaoqu_dict)\n",
    "data"
   ]
  },
  {
   "cell_type": "code",
   "execution_count": 161,
   "metadata": {},
   "outputs": [
    {
     "output_type": "execute_result",
     "data": {
      "text/plain": [
       "      cjtaoshu  mendian  cjzongjia  zhiwei           cjxiaoqu  \\\n",
       "0           37        1      251.0       1      红莲北里 3室1厅 57平   \n",
       "1           37        1      159.0       1      红莲南里 1室1厅 43平   \n",
       "2           37        1      257.0       1     常青藤嘉园 1室1厅 65平   \n",
       "3           37        1      243.0       1      红莲北里 2室1厅 58平   \n",
       "4           37        1      372.5       1    广安门外大街 3室1厅 88平   \n",
       "...        ...      ...        ...     ...                ...   \n",
       "6676         5     1472       65.0       2  福城上上城二季 1室--厅 52平   \n",
       "6677         4     1417      193.0       2    大宁山庄四区 1室1厅 53平   \n",
       "6678         4     1417      295.0       2    加州水郡三期 2室1厅 87平   \n",
       "6679         4     1417      310.0       2   加州水郡三期 3室2厅 147平   \n",
       "6680         4     1417      120.0       2     新建巷小区 1室1厅 47平   \n",
       "\n",
       "            cjlouceng        cjshijian  bankuai  xiaoqu  buju  \n",
       "0          南 北/高楼层/6层  签约时间：2015-05-24        1       1     1  \n",
       "1            南/高楼层/7层  签约时间：2015-05-10        1       2     2  \n",
       "2           北/低楼层/16层  签约时间：2015-04-26        1       3     2  \n",
       "3          南 北/高楼层/6层  签约时间：2015-04-04        1       1     3  \n",
       "4     东 南 西 北/中楼层/18层  签约时间：2015-04-01        1       4     1  \n",
       "...               ...              ...      ...     ...   ...  \n",
       "6676        南/低楼层/18层  签约时间：2015-12-02      187    5627     7  \n",
       "6677         南/中楼层/6层  签约时间：2016-10-16       88    4993     2  \n",
       "6678      南 北/高楼层/15层  签约时间：2016-09-24       88    3495     3  \n",
       "6679    东 南 北/低楼层/14层  签约时间：2016-09-17       88    3495     4  \n",
       "6680         南/中楼层/4层  签约时间：2016-09-14       88    5265     2  \n",
       "\n",
       "[143763 rows x 10 columns]"
      ],
      "text/html": "<div>\n<style scoped>\n    .dataframe tbody tr th:only-of-type {\n        vertical-align: middle;\n    }\n\n    .dataframe tbody tr th {\n        vertical-align: top;\n    }\n\n    .dataframe thead th {\n        text-align: right;\n    }\n</style>\n<table border=\"1\" class=\"dataframe\">\n  <thead>\n    <tr style=\"text-align: right;\">\n      <th></th>\n      <th>cjtaoshu</th>\n      <th>mendian</th>\n      <th>cjzongjia</th>\n      <th>zhiwei</th>\n      <th>cjxiaoqu</th>\n      <th>cjlouceng</th>\n      <th>cjshijian</th>\n      <th>bankuai</th>\n      <th>xiaoqu</th>\n      <th>buju</th>\n    </tr>\n  </thead>\n  <tbody>\n    <tr>\n      <th>0</th>\n      <td>37</td>\n      <td>1</td>\n      <td>251.0</td>\n      <td>1</td>\n      <td>红莲北里 3室1厅 57平</td>\n      <td>南 北/高楼层/6层</td>\n      <td>签约时间：2015-05-24</td>\n      <td>1</td>\n      <td>1</td>\n      <td>1</td>\n    </tr>\n    <tr>\n      <th>1</th>\n      <td>37</td>\n      <td>1</td>\n      <td>159.0</td>\n      <td>1</td>\n      <td>红莲南里 1室1厅 43平</td>\n      <td>南/高楼层/7层</td>\n      <td>签约时间：2015-05-10</td>\n      <td>1</td>\n      <td>2</td>\n      <td>2</td>\n    </tr>\n    <tr>\n      <th>2</th>\n      <td>37</td>\n      <td>1</td>\n      <td>257.0</td>\n      <td>1</td>\n      <td>常青藤嘉园 1室1厅 65平</td>\n      <td>北/低楼层/16层</td>\n      <td>签约时间：2015-04-26</td>\n      <td>1</td>\n      <td>3</td>\n      <td>2</td>\n    </tr>\n    <tr>\n      <th>3</th>\n      <td>37</td>\n      <td>1</td>\n      <td>243.0</td>\n      <td>1</td>\n      <td>红莲北里 2室1厅 58平</td>\n      <td>南 北/高楼层/6层</td>\n      <td>签约时间：2015-04-04</td>\n      <td>1</td>\n      <td>1</td>\n      <td>3</td>\n    </tr>\n    <tr>\n      <th>4</th>\n      <td>37</td>\n      <td>1</td>\n      <td>372.5</td>\n      <td>1</td>\n      <td>广安门外大街 3室1厅 88平</td>\n      <td>东 南 西 北/中楼层/18层</td>\n      <td>签约时间：2015-04-01</td>\n      <td>1</td>\n      <td>4</td>\n      <td>1</td>\n    </tr>\n    <tr>\n      <th>...</th>\n      <td>...</td>\n      <td>...</td>\n      <td>...</td>\n      <td>...</td>\n      <td>...</td>\n      <td>...</td>\n      <td>...</td>\n      <td>...</td>\n      <td>...</td>\n      <td>...</td>\n    </tr>\n    <tr>\n      <th>6676</th>\n      <td>5</td>\n      <td>1472</td>\n      <td>65.0</td>\n      <td>2</td>\n      <td>福城上上城二季 1室--厅 52平</td>\n      <td>南/低楼层/18层</td>\n      <td>签约时间：2015-12-02</td>\n      <td>187</td>\n      <td>5627</td>\n      <td>7</td>\n    </tr>\n    <tr>\n      <th>6677</th>\n      <td>4</td>\n      <td>1417</td>\n      <td>193.0</td>\n      <td>2</td>\n      <td>大宁山庄四区 1室1厅 53平</td>\n      <td>南/中楼层/6层</td>\n      <td>签约时间：2016-10-16</td>\n      <td>88</td>\n      <td>4993</td>\n      <td>2</td>\n    </tr>\n    <tr>\n      <th>6678</th>\n      <td>4</td>\n      <td>1417</td>\n      <td>295.0</td>\n      <td>2</td>\n      <td>加州水郡三期 2室1厅 87平</td>\n      <td>南 北/高楼层/15层</td>\n      <td>签约时间：2016-09-24</td>\n      <td>88</td>\n      <td>3495</td>\n      <td>3</td>\n    </tr>\n    <tr>\n      <th>6679</th>\n      <td>4</td>\n      <td>1417</td>\n      <td>310.0</td>\n      <td>2</td>\n      <td>加州水郡三期 3室2厅 147平</td>\n      <td>东 南 北/低楼层/14层</td>\n      <td>签约时间：2016-09-17</td>\n      <td>88</td>\n      <td>3495</td>\n      <td>4</td>\n    </tr>\n    <tr>\n      <th>6680</th>\n      <td>4</td>\n      <td>1417</td>\n      <td>120.0</td>\n      <td>2</td>\n      <td>新建巷小区 1室1厅 47平</td>\n      <td>南/中楼层/4层</td>\n      <td>签约时间：2016-09-14</td>\n      <td>88</td>\n      <td>5265</td>\n      <td>2</td>\n    </tr>\n  </tbody>\n</table>\n<p>143763 rows × 10 columns</p>\n</div>"
     },
     "metadata": {},
     "execution_count": 161
    }
   ],
   "source": [
    "# 处理特征房间布局：buju\n",
    "data['buju'] = data.cjxiaoqu.map(lambda x:x.split(' ')[1])\n",
    "buju_map = data['buju'].unique()\n",
    "buju_dict = {}\n",
    "for i in range(0, len(buju_map)):\n",
    "    x = {buju_map[i]:int(i+1)}\n",
    "    buju_dict.update(x)\n",
    "data['buju'] = data['buju'].map(buju_dict)\n",
    "data"
   ]
  },
  {
   "cell_type": "code",
   "execution_count": 162,
   "metadata": {},
   "outputs": [],
   "source": [
    "# 处理特征房间大小：daxiao\n",
    "data['daxiao'] = data.cjxiaoqu.map(lambda x:x.split(' ')[2])\n",
    "data['daxiao'] = data['daxiao'].map(lambda x:x.replace('平',''))\n",
    "data['daxiao'] = data['daxiao'].map(lambda x:int(x))\n",
    "# 有标注错误的数据因此需要删掉大小异常的数据\n",
    "# data['daxiao'].unique()\n",
    "# data[data['daxiao']>400]\n",
    "data = data.loc[data['daxiao']<1000]\n",
    "data['daxiao'].unique()\n",
    "data = data.drop('cjxiaoqu',axis=1)"
   ]
  },
  {
   "cell_type": "code",
   "execution_count": 163,
   "metadata": {},
   "outputs": [
    {
     "output_type": "execute_result",
     "data": {
      "text/plain": [
       "   cjtaoshu  mendian  cjzongjia  zhiwei        cjlouceng        cjshijian  \\\n",
       "0        37        1      251.0       1       南 北/高楼层/6层  签约时间：2015-05-24   \n",
       "1        37        1      159.0       1         南/高楼层/7层  签约时间：2015-05-10   \n",
       "2        37        1      257.0       1        北/低楼层/16层  签约时间：2015-04-26   \n",
       "3        37        1      243.0       1       南 北/高楼层/6层  签约时间：2015-04-04   \n",
       "4        37        1      372.5       1  东 南 西 北/中楼层/18层  签约时间：2015-04-01   \n",
       "\n",
       "   bankuai  xiaoqu  buju  daxiao  \n",
       "0        1       1     1      57  \n",
       "1        1       2     2      43  \n",
       "2        1       3     2      65  \n",
       "3        1       1     3      58  \n",
       "4        1       4     1      88  "
      ],
      "text/html": "<div>\n<style scoped>\n    .dataframe tbody tr th:only-of-type {\n        vertical-align: middle;\n    }\n\n    .dataframe tbody tr th {\n        vertical-align: top;\n    }\n\n    .dataframe thead th {\n        text-align: right;\n    }\n</style>\n<table border=\"1\" class=\"dataframe\">\n  <thead>\n    <tr style=\"text-align: right;\">\n      <th></th>\n      <th>cjtaoshu</th>\n      <th>mendian</th>\n      <th>cjzongjia</th>\n      <th>zhiwei</th>\n      <th>cjlouceng</th>\n      <th>cjshijian</th>\n      <th>bankuai</th>\n      <th>xiaoqu</th>\n      <th>buju</th>\n      <th>daxiao</th>\n    </tr>\n  </thead>\n  <tbody>\n    <tr>\n      <th>0</th>\n      <td>37</td>\n      <td>1</td>\n      <td>251.0</td>\n      <td>1</td>\n      <td>南 北/高楼层/6层</td>\n      <td>签约时间：2015-05-24</td>\n      <td>1</td>\n      <td>1</td>\n      <td>1</td>\n      <td>57</td>\n    </tr>\n    <tr>\n      <th>1</th>\n      <td>37</td>\n      <td>1</td>\n      <td>159.0</td>\n      <td>1</td>\n      <td>南/高楼层/7层</td>\n      <td>签约时间：2015-05-10</td>\n      <td>1</td>\n      <td>2</td>\n      <td>2</td>\n      <td>43</td>\n    </tr>\n    <tr>\n      <th>2</th>\n      <td>37</td>\n      <td>1</td>\n      <td>257.0</td>\n      <td>1</td>\n      <td>北/低楼层/16层</td>\n      <td>签约时间：2015-04-26</td>\n      <td>1</td>\n      <td>3</td>\n      <td>2</td>\n      <td>65</td>\n    </tr>\n    <tr>\n      <th>3</th>\n      <td>37</td>\n      <td>1</td>\n      <td>243.0</td>\n      <td>1</td>\n      <td>南 北/高楼层/6层</td>\n      <td>签约时间：2015-04-04</td>\n      <td>1</td>\n      <td>1</td>\n      <td>3</td>\n      <td>58</td>\n    </tr>\n    <tr>\n      <th>4</th>\n      <td>37</td>\n      <td>1</td>\n      <td>372.5</td>\n      <td>1</td>\n      <td>东 南 西 北/中楼层/18层</td>\n      <td>签约时间：2015-04-01</td>\n      <td>1</td>\n      <td>4</td>\n      <td>1</td>\n      <td>88</td>\n    </tr>\n  </tbody>\n</table>\n</div>"
     },
     "metadata": {},
     "execution_count": 163
    }
   ],
   "source": [
    "data.head()"
   ]
  },
  {
   "cell_type": "code",
   "execution_count": 164,
   "metadata": {},
   "outputs": [
    {
     "output_type": "execute_result",
     "data": {
      "text/plain": [
       "array([2015, 2013, 2012, 2016, 2014, 2011, 2002, 2003, 2006, 2010])"
      ]
     },
     "metadata": {},
     "execution_count": 164
    }
   ],
   "source": [
    "# 处理特征:cjshijian\n",
    "data['cjshijian'] = data.cjshijian.map(lambda x:x.split('：')[1])\n",
    "data['cjshijian'] = data['cjshijian'].map(lambda x:x.split('-')[0])\n",
    "data['cjshijian'] = data['cjshijian'].map(lambda x:int(x))\n",
    "# data[data['daxiao']>400]\n",
    "data['cjshijian'].unique()"
   ]
  },
  {
   "cell_type": "code",
   "execution_count": 165,
   "metadata": {},
   "outputs": [
    {
     "output_type": "execute_result",
     "data": {
      "text/plain": [
       "   cjtaoshu  mendian  cjzongjia  zhiwei        cjlouceng  cjshijian  bankuai  \\\n",
       "0        37        1      251.0       1       南 北/高楼层/6层       2015        1   \n",
       "1        37        1      159.0       1         南/高楼层/7层       2015        1   \n",
       "2        37        1      257.0       1        北/低楼层/16层       2015        1   \n",
       "3        37        1      243.0       1       南 北/高楼层/6层       2015        1   \n",
       "4        37        1      372.5       1  东 南 西 北/中楼层/18层       2015        1   \n",
       "\n",
       "   xiaoqu  buju  daxiao  \n",
       "0       1     1      57  \n",
       "1       2     2      43  \n",
       "2       3     2      65  \n",
       "3       1     3      58  \n",
       "4       4     1      88  "
      ],
      "text/html": "<div>\n<style scoped>\n    .dataframe tbody tr th:only-of-type {\n        vertical-align: middle;\n    }\n\n    .dataframe tbody tr th {\n        vertical-align: top;\n    }\n\n    .dataframe thead th {\n        text-align: right;\n    }\n</style>\n<table border=\"1\" class=\"dataframe\">\n  <thead>\n    <tr style=\"text-align: right;\">\n      <th></th>\n      <th>cjtaoshu</th>\n      <th>mendian</th>\n      <th>cjzongjia</th>\n      <th>zhiwei</th>\n      <th>cjlouceng</th>\n      <th>cjshijian</th>\n      <th>bankuai</th>\n      <th>xiaoqu</th>\n      <th>buju</th>\n      <th>daxiao</th>\n    </tr>\n  </thead>\n  <tbody>\n    <tr>\n      <th>0</th>\n      <td>37</td>\n      <td>1</td>\n      <td>251.0</td>\n      <td>1</td>\n      <td>南 北/高楼层/6层</td>\n      <td>2015</td>\n      <td>1</td>\n      <td>1</td>\n      <td>1</td>\n      <td>57</td>\n    </tr>\n    <tr>\n      <th>1</th>\n      <td>37</td>\n      <td>1</td>\n      <td>159.0</td>\n      <td>1</td>\n      <td>南/高楼层/7层</td>\n      <td>2015</td>\n      <td>1</td>\n      <td>2</td>\n      <td>2</td>\n      <td>43</td>\n    </tr>\n    <tr>\n      <th>2</th>\n      <td>37</td>\n      <td>1</td>\n      <td>257.0</td>\n      <td>1</td>\n      <td>北/低楼层/16层</td>\n      <td>2015</td>\n      <td>1</td>\n      <td>3</td>\n      <td>2</td>\n      <td>65</td>\n    </tr>\n    <tr>\n      <th>3</th>\n      <td>37</td>\n      <td>1</td>\n      <td>243.0</td>\n      <td>1</td>\n      <td>南 北/高楼层/6层</td>\n      <td>2015</td>\n      <td>1</td>\n      <td>1</td>\n      <td>3</td>\n      <td>58</td>\n    </tr>\n    <tr>\n      <th>4</th>\n      <td>37</td>\n      <td>1</td>\n      <td>372.5</td>\n      <td>1</td>\n      <td>东 南 西 北/中楼层/18层</td>\n      <td>2015</td>\n      <td>1</td>\n      <td>4</td>\n      <td>1</td>\n      <td>88</td>\n    </tr>\n  </tbody>\n</table>\n</div>"
     },
     "metadata": {},
     "execution_count": 165
    }
   ],
   "source": [
    "data.head()"
   ]
  },
  {
   "cell_type": "code",
   "execution_count": 166,
   "metadata": {},
   "outputs": [
    {
     "output_type": "execute_result",
     "data": {
      "text/plain": [
       "      cjtaoshu  mendian  cjzongjia  zhiwei        cjlouceng  cjshijian  \\\n",
       "0           37        1      251.0       1       南 北/高楼层/6层       2015   \n",
       "1           37        1      159.0       1         南/高楼层/7层       2015   \n",
       "2           37        1      257.0       1        北/低楼层/16层       2015   \n",
       "3           37        1      243.0       1       南 北/高楼层/6层       2015   \n",
       "4           37        1      372.5       1  东 南 西 北/中楼层/18层       2015   \n",
       "...        ...      ...        ...     ...              ...        ...   \n",
       "6676         5     1472       65.0       2        南/低楼层/18层       2015   \n",
       "6677         4     1417      193.0       2         南/中楼层/6层       2016   \n",
       "6678         4     1417      295.0       2      南 北/高楼层/15层       2016   \n",
       "6679         4     1417      310.0       2    东 南 北/低楼层/14层       2016   \n",
       "6680         4     1417      120.0       2         南/中楼层/4层       2016   \n",
       "\n",
       "      bankuai  xiaoqu  buju  daxiao  fangxiang  \n",
       "0           1       1     1      57          1  \n",
       "1           1       2     2      43          2  \n",
       "2           1       3     2      65          3  \n",
       "3           1       1     3      58          1  \n",
       "4           1       4     1      88          4  \n",
       "...       ...     ...   ...     ...        ...  \n",
       "6676      187    5627     7      52          2  \n",
       "6677       88    4993     2      53          2  \n",
       "6678       88    3495     3      87          1  \n",
       "6679       88    3495     4     147          9  \n",
       "6680       88    5265     2      47          2  \n",
       "\n",
       "[143727 rows x 11 columns]"
      ],
      "text/html": "<div>\n<style scoped>\n    .dataframe tbody tr th:only-of-type {\n        vertical-align: middle;\n    }\n\n    .dataframe tbody tr th {\n        vertical-align: top;\n    }\n\n    .dataframe thead th {\n        text-align: right;\n    }\n</style>\n<table border=\"1\" class=\"dataframe\">\n  <thead>\n    <tr style=\"text-align: right;\">\n      <th></th>\n      <th>cjtaoshu</th>\n      <th>mendian</th>\n      <th>cjzongjia</th>\n      <th>zhiwei</th>\n      <th>cjlouceng</th>\n      <th>cjshijian</th>\n      <th>bankuai</th>\n      <th>xiaoqu</th>\n      <th>buju</th>\n      <th>daxiao</th>\n      <th>fangxiang</th>\n    </tr>\n  </thead>\n  <tbody>\n    <tr>\n      <th>0</th>\n      <td>37</td>\n      <td>1</td>\n      <td>251.0</td>\n      <td>1</td>\n      <td>南 北/高楼层/6层</td>\n      <td>2015</td>\n      <td>1</td>\n      <td>1</td>\n      <td>1</td>\n      <td>57</td>\n      <td>1</td>\n    </tr>\n    <tr>\n      <th>1</th>\n      <td>37</td>\n      <td>1</td>\n      <td>159.0</td>\n      <td>1</td>\n      <td>南/高楼层/7层</td>\n      <td>2015</td>\n      <td>1</td>\n      <td>2</td>\n      <td>2</td>\n      <td>43</td>\n      <td>2</td>\n    </tr>\n    <tr>\n      <th>2</th>\n      <td>37</td>\n      <td>1</td>\n      <td>257.0</td>\n      <td>1</td>\n      <td>北/低楼层/16层</td>\n      <td>2015</td>\n      <td>1</td>\n      <td>3</td>\n      <td>2</td>\n      <td>65</td>\n      <td>3</td>\n    </tr>\n    <tr>\n      <th>3</th>\n      <td>37</td>\n      <td>1</td>\n      <td>243.0</td>\n      <td>1</td>\n      <td>南 北/高楼层/6层</td>\n      <td>2015</td>\n      <td>1</td>\n      <td>1</td>\n      <td>3</td>\n      <td>58</td>\n      <td>1</td>\n    </tr>\n    <tr>\n      <th>4</th>\n      <td>37</td>\n      <td>1</td>\n      <td>372.5</td>\n      <td>1</td>\n      <td>东 南 西 北/中楼层/18层</td>\n      <td>2015</td>\n      <td>1</td>\n      <td>4</td>\n      <td>1</td>\n      <td>88</td>\n      <td>4</td>\n    </tr>\n    <tr>\n      <th>...</th>\n      <td>...</td>\n      <td>...</td>\n      <td>...</td>\n      <td>...</td>\n      <td>...</td>\n      <td>...</td>\n      <td>...</td>\n      <td>...</td>\n      <td>...</td>\n      <td>...</td>\n      <td>...</td>\n    </tr>\n    <tr>\n      <th>6676</th>\n      <td>5</td>\n      <td>1472</td>\n      <td>65.0</td>\n      <td>2</td>\n      <td>南/低楼层/18层</td>\n      <td>2015</td>\n      <td>187</td>\n      <td>5627</td>\n      <td>7</td>\n      <td>52</td>\n      <td>2</td>\n    </tr>\n    <tr>\n      <th>6677</th>\n      <td>4</td>\n      <td>1417</td>\n      <td>193.0</td>\n      <td>2</td>\n      <td>南/中楼层/6层</td>\n      <td>2016</td>\n      <td>88</td>\n      <td>4993</td>\n      <td>2</td>\n      <td>53</td>\n      <td>2</td>\n    </tr>\n    <tr>\n      <th>6678</th>\n      <td>4</td>\n      <td>1417</td>\n      <td>295.0</td>\n      <td>2</td>\n      <td>南 北/高楼层/15层</td>\n      <td>2016</td>\n      <td>88</td>\n      <td>3495</td>\n      <td>3</td>\n      <td>87</td>\n      <td>1</td>\n    </tr>\n    <tr>\n      <th>6679</th>\n      <td>4</td>\n      <td>1417</td>\n      <td>310.0</td>\n      <td>2</td>\n      <td>东 南 北/低楼层/14层</td>\n      <td>2016</td>\n      <td>88</td>\n      <td>3495</td>\n      <td>4</td>\n      <td>147</td>\n      <td>9</td>\n    </tr>\n    <tr>\n      <th>6680</th>\n      <td>4</td>\n      <td>1417</td>\n      <td>120.0</td>\n      <td>2</td>\n      <td>南/中楼层/4层</td>\n      <td>2016</td>\n      <td>88</td>\n      <td>5265</td>\n      <td>2</td>\n      <td>47</td>\n      <td>2</td>\n    </tr>\n  </tbody>\n</table>\n<p>143727 rows × 11 columns</p>\n</div>"
     },
     "metadata": {},
     "execution_count": 166
    }
   ],
   "source": [
    "# 处理特征:cjlouceng，首先处理特征方向:fangxiang\n",
    "data['fangxiang'] = data.cjlouceng.map(lambda x:x.split('/')[0])\n",
    "fangxiang_map = data['fangxiang'].unique()\n",
    "fangxiang_dict = {}\n",
    "for i in range(0, len(fangxiang_map)):\n",
    "    x = {fangxiang_map[i]:int(i+1)}\n",
    "    fangxiang_dict.update(x)\n",
    "data['fangxiang'] = data['fangxiang'].map(fangxiang_dict)\n",
    "data\n"
   ]
  },
  {
   "cell_type": "code",
   "execution_count": 167,
   "metadata": {},
   "outputs": [
    {
     "output_type": "execute_result",
     "data": {
      "text/plain": [
       "      cjtaoshu  mendian  cjzongjia  zhiwei        cjlouceng  cjshijian  \\\n",
       "0           37        1      251.0       1       南 北/高楼层/6层       2015   \n",
       "1           37        1      159.0       1         南/高楼层/7层       2015   \n",
       "2           37        1      257.0       1        北/低楼层/16层       2015   \n",
       "3           37        1      243.0       1       南 北/高楼层/6层       2015   \n",
       "4           37        1      372.5       1  东 南 西 北/中楼层/18层       2015   \n",
       "...        ...      ...        ...     ...              ...        ...   \n",
       "6676         5     1472       65.0       2        南/低楼层/18层       2015   \n",
       "6677         4     1417      193.0       2         南/中楼层/6层       2016   \n",
       "6678         4     1417      295.0       2      南 北/高楼层/15层       2016   \n",
       "6679         4     1417      310.0       2    东 南 北/低楼层/14层       2016   \n",
       "6680         4     1417      120.0       2         南/中楼层/4层       2016   \n",
       "\n",
       "      bankuai  xiaoqu  buju  daxiao  fangxiang  gaodi  \n",
       "0           1       1     1      57          1      1  \n",
       "1           1       2     2      43          2      1  \n",
       "2           1       3     2      65          3      2  \n",
       "3           1       1     3      58          1      1  \n",
       "4           1       4     1      88          4      3  \n",
       "...       ...     ...   ...     ...        ...    ...  \n",
       "6676      187    5627     7      52          2      2  \n",
       "6677       88    4993     2      53          2      3  \n",
       "6678       88    3495     3      87          1      1  \n",
       "6679       88    3495     4     147          9      2  \n",
       "6680       88    5265     2      47          2      3  \n",
       "\n",
       "[143727 rows x 12 columns]"
      ],
      "text/html": "<div>\n<style scoped>\n    .dataframe tbody tr th:only-of-type {\n        vertical-align: middle;\n    }\n\n    .dataframe tbody tr th {\n        vertical-align: top;\n    }\n\n    .dataframe thead th {\n        text-align: right;\n    }\n</style>\n<table border=\"1\" class=\"dataframe\">\n  <thead>\n    <tr style=\"text-align: right;\">\n      <th></th>\n      <th>cjtaoshu</th>\n      <th>mendian</th>\n      <th>cjzongjia</th>\n      <th>zhiwei</th>\n      <th>cjlouceng</th>\n      <th>cjshijian</th>\n      <th>bankuai</th>\n      <th>xiaoqu</th>\n      <th>buju</th>\n      <th>daxiao</th>\n      <th>fangxiang</th>\n      <th>gaodi</th>\n    </tr>\n  </thead>\n  <tbody>\n    <tr>\n      <th>0</th>\n      <td>37</td>\n      <td>1</td>\n      <td>251.0</td>\n      <td>1</td>\n      <td>南 北/高楼层/6层</td>\n      <td>2015</td>\n      <td>1</td>\n      <td>1</td>\n      <td>1</td>\n      <td>57</td>\n      <td>1</td>\n      <td>1</td>\n    </tr>\n    <tr>\n      <th>1</th>\n      <td>37</td>\n      <td>1</td>\n      <td>159.0</td>\n      <td>1</td>\n      <td>南/高楼层/7层</td>\n      <td>2015</td>\n      <td>1</td>\n      <td>2</td>\n      <td>2</td>\n      <td>43</td>\n      <td>2</td>\n      <td>1</td>\n    </tr>\n    <tr>\n      <th>2</th>\n      <td>37</td>\n      <td>1</td>\n      <td>257.0</td>\n      <td>1</td>\n      <td>北/低楼层/16层</td>\n      <td>2015</td>\n      <td>1</td>\n      <td>3</td>\n      <td>2</td>\n      <td>65</td>\n      <td>3</td>\n      <td>2</td>\n    </tr>\n    <tr>\n      <th>3</th>\n      <td>37</td>\n      <td>1</td>\n      <td>243.0</td>\n      <td>1</td>\n      <td>南 北/高楼层/6层</td>\n      <td>2015</td>\n      <td>1</td>\n      <td>1</td>\n      <td>3</td>\n      <td>58</td>\n      <td>1</td>\n      <td>1</td>\n    </tr>\n    <tr>\n      <th>4</th>\n      <td>37</td>\n      <td>1</td>\n      <td>372.5</td>\n      <td>1</td>\n      <td>东 南 西 北/中楼层/18层</td>\n      <td>2015</td>\n      <td>1</td>\n      <td>4</td>\n      <td>1</td>\n      <td>88</td>\n      <td>4</td>\n      <td>3</td>\n    </tr>\n    <tr>\n      <th>...</th>\n      <td>...</td>\n      <td>...</td>\n      <td>...</td>\n      <td>...</td>\n      <td>...</td>\n      <td>...</td>\n      <td>...</td>\n      <td>...</td>\n      <td>...</td>\n      <td>...</td>\n      <td>...</td>\n      <td>...</td>\n    </tr>\n    <tr>\n      <th>6676</th>\n      <td>5</td>\n      <td>1472</td>\n      <td>65.0</td>\n      <td>2</td>\n      <td>南/低楼层/18层</td>\n      <td>2015</td>\n      <td>187</td>\n      <td>5627</td>\n      <td>7</td>\n      <td>52</td>\n      <td>2</td>\n      <td>2</td>\n    </tr>\n    <tr>\n      <th>6677</th>\n      <td>4</td>\n      <td>1417</td>\n      <td>193.0</td>\n      <td>2</td>\n      <td>南/中楼层/6层</td>\n      <td>2016</td>\n      <td>88</td>\n      <td>4993</td>\n      <td>2</td>\n      <td>53</td>\n      <td>2</td>\n      <td>3</td>\n    </tr>\n    <tr>\n      <th>6678</th>\n      <td>4</td>\n      <td>1417</td>\n      <td>295.0</td>\n      <td>2</td>\n      <td>南 北/高楼层/15层</td>\n      <td>2016</td>\n      <td>88</td>\n      <td>3495</td>\n      <td>3</td>\n      <td>87</td>\n      <td>1</td>\n      <td>1</td>\n    </tr>\n    <tr>\n      <th>6679</th>\n      <td>4</td>\n      <td>1417</td>\n      <td>310.0</td>\n      <td>2</td>\n      <td>东 南 北/低楼层/14层</td>\n      <td>2016</td>\n      <td>88</td>\n      <td>3495</td>\n      <td>4</td>\n      <td>147</td>\n      <td>9</td>\n      <td>2</td>\n    </tr>\n    <tr>\n      <th>6680</th>\n      <td>4</td>\n      <td>1417</td>\n      <td>120.0</td>\n      <td>2</td>\n      <td>南/中楼层/4层</td>\n      <td>2016</td>\n      <td>88</td>\n      <td>5265</td>\n      <td>2</td>\n      <td>47</td>\n      <td>2</td>\n      <td>3</td>\n    </tr>\n  </tbody>\n</table>\n<p>143727 rows × 12 columns</p>\n</div>"
     },
     "metadata": {},
     "execution_count": 167
    }
   ],
   "source": [
    "# 处理特征:cjlouceng，处理特征高低楼层:gaodi\n",
    "data['gaodi'] = data.cjlouceng.map(lambda x:x.split('/')[1])\n",
    "gaodi_map = data['gaodi'].unique()\n",
    "gaodi_dict = {}\n",
    "for i in range(0, len(gaodi_map)):\n",
    "    x = {gaodi_map[i]:int(i+1)}\n",
    "    gaodi_dict.update(x)\n",
    "data['gaodi'] = data['gaodi'].map(gaodi_dict)\n",
    "data"
   ]
  },
  {
   "cell_type": "code",
   "execution_count": 168,
   "metadata": {},
   "outputs": [
    {
     "output_type": "stream",
     "name": "stdout",
     "text": [
      "<class 'pandas.core.frame.DataFrame'>\nInt64Index: 143665 entries, 0 to 6680\nData columns (total 12 columns):\n #   Column     Non-Null Count   Dtype  \n---  ------     --------------   -----  \n 0   cjtaoshu   143665 non-null  int64  \n 1   mendian    143665 non-null  int64  \n 2   cjzongjia  143665 non-null  float64\n 3   zhiwei     143665 non-null  int64  \n 4   cjshijian  143665 non-null  int64  \n 5   bankuai    143665 non-null  int64  \n 6   xiaoqu     143665 non-null  int64  \n 7   buju       143665 non-null  int64  \n 8   daxiao     143665 non-null  int64  \n 9   fangxiang  143665 non-null  int64  \n 10  gaodi      143665 non-null  int64  \n 11  cengshu    143665 non-null  int64  \ndtypes: float64(1), int64(11)\nmemory usage: 14.2 MB\n"
     ]
    }
   ],
   "source": [
    "# 处理特征:cjlouceng，处理特征楼层数:cengshu\n",
    "data['cengshu'] = data.cjlouceng.map(lambda x:x.split('/')[2])\n",
    "data['cengshu'] = data['cengshu'].map(lambda x:x.replace('层',''))\n",
    "data = data.loc[data['cengshu']!='']\n",
    "data = data.loc[data['cengshu']!='0']\n",
    "data['cengshu'] = data['cengshu'].map(lambda x:int(x))\n",
    "data['cengshu'].unique()\n",
    "data = data.drop('cjlouceng', axis=1)\n",
    "data.info()"
   ]
  },
  {
   "cell_type": "code",
   "execution_count": 169,
   "metadata": {},
   "outputs": [
    {
     "output_type": "execute_result",
     "data": {
      "text/plain": [
       "      cjtaoshu  mendian  cjzongjia  zhiwei  cjshijian  bankuai  xiaoqu  buju  \\\n",
       "0           37        1      251.0       1       2015        1       1     1   \n",
       "1           37        1      159.0       1       2015        1       2     2   \n",
       "2           37        1      257.0       1       2015        1       3     2   \n",
       "3           37        1      243.0       1       2015        1       1     3   \n",
       "4           37        1      372.5       1       2015        1       4     1   \n",
       "...        ...      ...        ...     ...        ...      ...     ...   ...   \n",
       "6676         5     1472       65.0       2       2015      187    5627     7   \n",
       "6677         4     1417      193.0       2       2016       88    4993     2   \n",
       "6678         4     1417      295.0       2       2016       88    3495     3   \n",
       "6679         4     1417      310.0       2       2016       88    3495     4   \n",
       "6680         4     1417      120.0       2       2016       88    5265     2   \n",
       "\n",
       "      daxiao  fangxiang  gaodi  cengshu  \n",
       "0         57          1      1        6  \n",
       "1         43          2      1        7  \n",
       "2         65          3      2       16  \n",
       "3         58          1      1        6  \n",
       "4         88          4      3       18  \n",
       "...      ...        ...    ...      ...  \n",
       "6676      52          2      2       18  \n",
       "6677      53          2      3        6  \n",
       "6678      87          1      1       15  \n",
       "6679     147          9      2       14  \n",
       "6680      47          2      3        4  \n",
       "\n",
       "[143665 rows x 12 columns]"
      ],
      "text/html": "<div>\n<style scoped>\n    .dataframe tbody tr th:only-of-type {\n        vertical-align: middle;\n    }\n\n    .dataframe tbody tr th {\n        vertical-align: top;\n    }\n\n    .dataframe thead th {\n        text-align: right;\n    }\n</style>\n<table border=\"1\" class=\"dataframe\">\n  <thead>\n    <tr style=\"text-align: right;\">\n      <th></th>\n      <th>cjtaoshu</th>\n      <th>mendian</th>\n      <th>cjzongjia</th>\n      <th>zhiwei</th>\n      <th>cjshijian</th>\n      <th>bankuai</th>\n      <th>xiaoqu</th>\n      <th>buju</th>\n      <th>daxiao</th>\n      <th>fangxiang</th>\n      <th>gaodi</th>\n      <th>cengshu</th>\n    </tr>\n  </thead>\n  <tbody>\n    <tr>\n      <th>0</th>\n      <td>37</td>\n      <td>1</td>\n      <td>251.0</td>\n      <td>1</td>\n      <td>2015</td>\n      <td>1</td>\n      <td>1</td>\n      <td>1</td>\n      <td>57</td>\n      <td>1</td>\n      <td>1</td>\n      <td>6</td>\n    </tr>\n    <tr>\n      <th>1</th>\n      <td>37</td>\n      <td>1</td>\n      <td>159.0</td>\n      <td>1</td>\n      <td>2015</td>\n      <td>1</td>\n      <td>2</td>\n      <td>2</td>\n      <td>43</td>\n      <td>2</td>\n      <td>1</td>\n      <td>7</td>\n    </tr>\n    <tr>\n      <th>2</th>\n      <td>37</td>\n      <td>1</td>\n      <td>257.0</td>\n      <td>1</td>\n      <td>2015</td>\n      <td>1</td>\n      <td>3</td>\n      <td>2</td>\n      <td>65</td>\n      <td>3</td>\n      <td>2</td>\n      <td>16</td>\n    </tr>\n    <tr>\n      <th>3</th>\n      <td>37</td>\n      <td>1</td>\n      <td>243.0</td>\n      <td>1</td>\n      <td>2015</td>\n      <td>1</td>\n      <td>1</td>\n      <td>3</td>\n      <td>58</td>\n      <td>1</td>\n      <td>1</td>\n      <td>6</td>\n    </tr>\n    <tr>\n      <th>4</th>\n      <td>37</td>\n      <td>1</td>\n      <td>372.5</td>\n      <td>1</td>\n      <td>2015</td>\n      <td>1</td>\n      <td>4</td>\n      <td>1</td>\n      <td>88</td>\n      <td>4</td>\n      <td>3</td>\n      <td>18</td>\n    </tr>\n    <tr>\n      <th>...</th>\n      <td>...</td>\n      <td>...</td>\n      <td>...</td>\n      <td>...</td>\n      <td>...</td>\n      <td>...</td>\n      <td>...</td>\n      <td>...</td>\n      <td>...</td>\n      <td>...</td>\n      <td>...</td>\n      <td>...</td>\n    </tr>\n    <tr>\n      <th>6676</th>\n      <td>5</td>\n      <td>1472</td>\n      <td>65.0</td>\n      <td>2</td>\n      <td>2015</td>\n      <td>187</td>\n      <td>5627</td>\n      <td>7</td>\n      <td>52</td>\n      <td>2</td>\n      <td>2</td>\n      <td>18</td>\n    </tr>\n    <tr>\n      <th>6677</th>\n      <td>4</td>\n      <td>1417</td>\n      <td>193.0</td>\n      <td>2</td>\n      <td>2016</td>\n      <td>88</td>\n      <td>4993</td>\n      <td>2</td>\n      <td>53</td>\n      <td>2</td>\n      <td>3</td>\n      <td>6</td>\n    </tr>\n    <tr>\n      <th>6678</th>\n      <td>4</td>\n      <td>1417</td>\n      <td>295.0</td>\n      <td>2</td>\n      <td>2016</td>\n      <td>88</td>\n      <td>3495</td>\n      <td>3</td>\n      <td>87</td>\n      <td>1</td>\n      <td>1</td>\n      <td>15</td>\n    </tr>\n    <tr>\n      <th>6679</th>\n      <td>4</td>\n      <td>1417</td>\n      <td>310.0</td>\n      <td>2</td>\n      <td>2016</td>\n      <td>88</td>\n      <td>3495</td>\n      <td>4</td>\n      <td>147</td>\n      <td>9</td>\n      <td>2</td>\n      <td>14</td>\n    </tr>\n    <tr>\n      <th>6680</th>\n      <td>4</td>\n      <td>1417</td>\n      <td>120.0</td>\n      <td>2</td>\n      <td>2016</td>\n      <td>88</td>\n      <td>5265</td>\n      <td>2</td>\n      <td>47</td>\n      <td>2</td>\n      <td>3</td>\n      <td>4</td>\n    </tr>\n  </tbody>\n</table>\n<p>143665 rows × 12 columns</p>\n</div>"
     },
     "metadata": {},
     "execution_count": 169
    }
   ],
   "source": [
    "data"
   ]
  },
  {
   "source": [
    "## 开始训练模型"
   ],
   "cell_type": "markdown",
   "metadata": {}
  },
  {
   "cell_type": "code",
   "execution_count": 170,
   "metadata": {},
   "outputs": [
    {
     "output_type": "stream",
     "name": "stdout",
     "text": [
      "北京二手房房价有数据 143665 条，字段 12 个。\n"
     ]
    },
    {
     "output_type": "execute_result",
     "data": {
      "text/plain": [
       "   cjtaoshu  mendian  cjzongjia  zhiwei  cjshijian  bankuai  xiaoqu  buju  \\\n",
       "0        37        1      251.0       1       2015        1       1     1   \n",
       "1        37        1      159.0       1       2015        1       2     2   \n",
       "2        37        1      257.0       1       2015        1       3     2   \n",
       "3        37        1      243.0       1       2015        1       1     3   \n",
       "4        37        1      372.5       1       2015        1       4     1   \n",
       "\n",
       "   daxiao  fangxiang  gaodi  cengshu  \n",
       "0      57          1      1        6  \n",
       "1      43          2      1        7  \n",
       "2      65          3      2       16  \n",
       "3      58          1      1        6  \n",
       "4      88          4      3       18  "
      ],
      "text/html": "<div>\n<style scoped>\n    .dataframe tbody tr th:only-of-type {\n        vertical-align: middle;\n    }\n\n    .dataframe tbody tr th {\n        vertical-align: top;\n    }\n\n    .dataframe thead th {\n        text-align: right;\n    }\n</style>\n<table border=\"1\" class=\"dataframe\">\n  <thead>\n    <tr style=\"text-align: right;\">\n      <th></th>\n      <th>cjtaoshu</th>\n      <th>mendian</th>\n      <th>cjzongjia</th>\n      <th>zhiwei</th>\n      <th>cjshijian</th>\n      <th>bankuai</th>\n      <th>xiaoqu</th>\n      <th>buju</th>\n      <th>daxiao</th>\n      <th>fangxiang</th>\n      <th>gaodi</th>\n      <th>cengshu</th>\n    </tr>\n  </thead>\n  <tbody>\n    <tr>\n      <th>0</th>\n      <td>37</td>\n      <td>1</td>\n      <td>251.0</td>\n      <td>1</td>\n      <td>2015</td>\n      <td>1</td>\n      <td>1</td>\n      <td>1</td>\n      <td>57</td>\n      <td>1</td>\n      <td>1</td>\n      <td>6</td>\n    </tr>\n    <tr>\n      <th>1</th>\n      <td>37</td>\n      <td>1</td>\n      <td>159.0</td>\n      <td>1</td>\n      <td>2015</td>\n      <td>1</td>\n      <td>2</td>\n      <td>2</td>\n      <td>43</td>\n      <td>2</td>\n      <td>1</td>\n      <td>7</td>\n    </tr>\n    <tr>\n      <th>2</th>\n      <td>37</td>\n      <td>1</td>\n      <td>257.0</td>\n      <td>1</td>\n      <td>2015</td>\n      <td>1</td>\n      <td>3</td>\n      <td>2</td>\n      <td>65</td>\n      <td>3</td>\n      <td>2</td>\n      <td>16</td>\n    </tr>\n    <tr>\n      <th>3</th>\n      <td>37</td>\n      <td>1</td>\n      <td>243.0</td>\n      <td>1</td>\n      <td>2015</td>\n      <td>1</td>\n      <td>1</td>\n      <td>3</td>\n      <td>58</td>\n      <td>1</td>\n      <td>1</td>\n      <td>6</td>\n    </tr>\n    <tr>\n      <th>4</th>\n      <td>37</td>\n      <td>1</td>\n      <td>372.5</td>\n      <td>1</td>\n      <td>2015</td>\n      <td>1</td>\n      <td>4</td>\n      <td>1</td>\n      <td>88</td>\n      <td>4</td>\n      <td>3</td>\n      <td>18</td>\n    </tr>\n  </tbody>\n</table>\n</div>"
     },
     "metadata": {},
     "execution_count": 170
    }
   ],
   "source": [
    "# 分配数据集-训练集和测试集\n",
    "prices = data['cjzongjia']\n",
    "features = data.drop('cjzongjia', axis = 1)\n",
    "print('北京二手房房价有数据 {0} 条，字段 {1} 个。'.format(*data.shape))\n",
    "data.head()"
   ]
  },
  {
   "cell_type": "code",
   "execution_count": 171,
   "metadata": {},
   "outputs": [],
   "source": [
    "import numpy as np\n",
    "\n",
    "# 转换训练测试集格式为数组\n",
    "features = np.array(features)\n",
    "prices = np.array(prices)\n",
    "\n",
    "# 导入sklearn进行训练测试集划分\n",
    "from sklearn.model_selection import train_test_split\n",
    "features_train, features_test, prices_train, prices_test = train_test_split(features, prices, test_size=0.2, random_state=0)"
   ]
  },
  {
   "source": [
    "## 建立模型\n",
    "建立决策树回归模型，通过GridSearchCV找到最优深度参数。"
   ],
   "cell_type": "markdown",
   "metadata": {}
  },
  {
   "cell_type": "code",
   "execution_count": 172,
   "metadata": {},
   "outputs": [],
   "source": [
    "from sklearn.model_selection import KFold\n",
    "from sklearn.tree import DecisionTreeRegressor\n",
    "from sklearn.metrics import make_scorer\n",
    "from sklearn.model_selection import GridSearchCV\n",
    "\n",
    "# 利用GridSearchCV计算最优解\n",
    "def fit_model(X, y):\n",
    "    \"\"\" 基于输入数据 [X,y]，利于网格搜索找到最优的决策树模型\"\"\"\n",
    "    \n",
    "    cross_validator = KFold(10, shuffle=True)\n",
    "      \n",
    "    regressor = DecisionTreeRegressor()\n",
    "    \n",
    "    params = {'max_depth':[1,2,3,4,5,6,7,8,9,10]}\n",
    "    \n",
    "    scoring_fnc = make_scorer(performance_metric)\n",
    "    \n",
    "    grid = GridSearchCV(estimator = regressor, param_grid = params, scoring = scoring_fnc, cv = cross_validator)\n",
    "\n",
    "    # 基于输入数据 [X,y]，进行网格搜索\n",
    "    grid = grid.fit(X, y)\n",
    "#     print pd.DataFrame(grid.cv_results_)\n",
    "    return grid.best_estimator_\n",
    "\n",
    "# 计算R2分数\n",
    "def performance_metric(y_true, y_predict):\n",
    "    \"\"\"计算并返回预测值相比于预测值的分数\"\"\"\n",
    "    from sklearn.metrics import r2_score\n",
    "    score = r2_score(y_true, y_predict)\n",
    "\n",
    "    return score"
   ]
  },
  {
   "cell_type": "code",
   "execution_count": 173,
   "metadata": {},
   "outputs": [
    {
     "output_type": "stream",
     "name": "stdout",
     "text": [
      "最理想模型的参数 'max_depth' 是 10 。\n最优模型在测试数据上 R^2 分数 0.52。\n"
     ]
    }
   ],
   "source": [
    "\n",
    "optimal_reg1 = fit_model(features_train, prices_train)\n",
    "\n",
    "# 输出最优模型的 'max_depth' 参数\n",
    "print(\"最理想模型的参数 'max_depth' 是 {} 。\".format(optimal_reg1.get_params()['max_depth']))\n",
    "\n",
    "predicted_value = optimal_reg1.predict(features_test)\n",
    "r2 = performance_metric(prices_test, predicted_value)\n",
    "\n",
    "print(\"最优模型在测试数据上 R^2 分数 {:,.2f}。\".format(r2))"
   ]
  },
  {
   "cell_type": "code",
   "execution_count": null,
   "metadata": {},
   "outputs": [],
   "source": []
  }
 ]
}