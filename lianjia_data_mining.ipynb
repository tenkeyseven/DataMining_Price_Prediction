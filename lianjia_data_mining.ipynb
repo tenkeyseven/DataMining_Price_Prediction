{
 "cells": [
  {
   "cell_type": "code",
   "execution_count": 1,
   "metadata": {},
   "outputs": [],
   "source": [
    "import numpy as np\n",
    "import pandas as pd\n",
    "import matplotlib.pyplot as plt\n",
    "%matplotlib inline"
   ]
  },
  {
   "cell_type": "code",
   "execution_count": 5,
   "metadata": {},
   "outputs": [],
   "source": [
    "f=open(r'./data/lianjia1.csv',encoding='gbk')\n",
    "data=pd.read_csv(f)"
   ]
  },
  {
   "cell_type": "code",
   "execution_count": 3,
   "metadata": {
    "scrolled": true
   },
   "outputs": [
    {
     "output_type": "execute_result",
     "data": {
      "text/plain": [
       "   cjtaoshu mendian  cjzongjia zhiwei  haoping  cjdanjia         cjxiaoqu  \\\n",
       "0        37   红莲北里店      251.0    店经理  97% 141  43997元/平    红莲北里 3室1厅 57平   \n",
       "1        37   红莲北里店      159.0    店经理  97% 141  36969元/平    红莲南里 1室1厅 43平   \n",
       "2        37   红莲北里店      257.0    店经理  97% 141  39046元/平   常青藤嘉园 1室1厅 65平   \n",
       "3        37   红莲北里店      243.0    店经理  97% 141  41313元/平    红莲北里 2室1厅 58平   \n",
       "4        37   红莲北里店      372.5    店经理  97% 141  42053元/平  广安门外大街 3室1厅 88平   \n",
       "\n",
       "  xingming  cjzhouqi        biaoqian        cjlouceng        cjshijian  \\\n",
       "0      郭海龙        36  房东信赖;销售达人;带看活跃       南 北/高楼层/6层  签约时间：2015-05-24   \n",
       "1      郭海龙        36  房东信赖;销售达人;带看活跃         南/高楼层/7层  签约时间：2015-05-10   \n",
       "2      郭海龙        36  房东信赖;销售达人;带看活跃        北/低楼层/16层  签约时间：2015-04-26   \n",
       "3      郭海龙        36  房东信赖;销售达人;带看活跃       南 北/高楼层/6层  签约时间：2015-04-04   \n",
       "4      郭海龙        36  房东信赖;销售达人;带看活跃  东 南 西 北/中楼层/18层  签约时间：2015-04-01   \n",
       "\n",
       "  congyenianxian bankuai  \n",
       "0           4-5年     马连道  \n",
       "1           4-5年     马连道  \n",
       "2           4-5年     马连道  \n",
       "3           4-5年     马连道  \n",
       "4           4-5年     马连道  "
      ],
      "text/html": "<div>\n<style scoped>\n    .dataframe tbody tr th:only-of-type {\n        vertical-align: middle;\n    }\n\n    .dataframe tbody tr th {\n        vertical-align: top;\n    }\n\n    .dataframe thead th {\n        text-align: right;\n    }\n</style>\n<table border=\"1\" class=\"dataframe\">\n  <thead>\n    <tr style=\"text-align: right;\">\n      <th></th>\n      <th>cjtaoshu</th>\n      <th>mendian</th>\n      <th>cjzongjia</th>\n      <th>zhiwei</th>\n      <th>haoping</th>\n      <th>cjdanjia</th>\n      <th>cjxiaoqu</th>\n      <th>xingming</th>\n      <th>cjzhouqi</th>\n      <th>biaoqian</th>\n      <th>cjlouceng</th>\n      <th>cjshijian</th>\n      <th>congyenianxian</th>\n      <th>bankuai</th>\n    </tr>\n  </thead>\n  <tbody>\n    <tr>\n      <th>0</th>\n      <td>37</td>\n      <td>红莲北里店</td>\n      <td>251.0</td>\n      <td>店经理</td>\n      <td>97% 141</td>\n      <td>43997元/平</td>\n      <td>红莲北里 3室1厅 57平</td>\n      <td>郭海龙</td>\n      <td>36</td>\n      <td>房东信赖;销售达人;带看活跃</td>\n      <td>南 北/高楼层/6层</td>\n      <td>签约时间：2015-05-24</td>\n      <td>4-5年</td>\n      <td>马连道</td>\n    </tr>\n    <tr>\n      <th>1</th>\n      <td>37</td>\n      <td>红莲北里店</td>\n      <td>159.0</td>\n      <td>店经理</td>\n      <td>97% 141</td>\n      <td>36969元/平</td>\n      <td>红莲南里 1室1厅 43平</td>\n      <td>郭海龙</td>\n      <td>36</td>\n      <td>房东信赖;销售达人;带看活跃</td>\n      <td>南/高楼层/7层</td>\n      <td>签约时间：2015-05-10</td>\n      <td>4-5年</td>\n      <td>马连道</td>\n    </tr>\n    <tr>\n      <th>2</th>\n      <td>37</td>\n      <td>红莲北里店</td>\n      <td>257.0</td>\n      <td>店经理</td>\n      <td>97% 141</td>\n      <td>39046元/平</td>\n      <td>常青藤嘉园 1室1厅 65平</td>\n      <td>郭海龙</td>\n      <td>36</td>\n      <td>房东信赖;销售达人;带看活跃</td>\n      <td>北/低楼层/16层</td>\n      <td>签约时间：2015-04-26</td>\n      <td>4-5年</td>\n      <td>马连道</td>\n    </tr>\n    <tr>\n      <th>3</th>\n      <td>37</td>\n      <td>红莲北里店</td>\n      <td>243.0</td>\n      <td>店经理</td>\n      <td>97% 141</td>\n      <td>41313元/平</td>\n      <td>红莲北里 2室1厅 58平</td>\n      <td>郭海龙</td>\n      <td>36</td>\n      <td>房东信赖;销售达人;带看活跃</td>\n      <td>南 北/高楼层/6层</td>\n      <td>签约时间：2015-04-04</td>\n      <td>4-5年</td>\n      <td>马连道</td>\n    </tr>\n    <tr>\n      <th>4</th>\n      <td>37</td>\n      <td>红莲北里店</td>\n      <td>372.5</td>\n      <td>店经理</td>\n      <td>97% 141</td>\n      <td>42053元/平</td>\n      <td>广安门外大街 3室1厅 88平</td>\n      <td>郭海龙</td>\n      <td>36</td>\n      <td>房东信赖;销售达人;带看活跃</td>\n      <td>东 南 西 北/中楼层/18层</td>\n      <td>签约时间：2015-04-01</td>\n      <td>4-5年</td>\n      <td>马连道</td>\n    </tr>\n  </tbody>\n</table>\n</div>"
     },
     "metadata": {},
     "execution_count": 3
    }
   ],
   "source": [
    "data.head()"
   ]
  },
  {
   "cell_type": "code",
   "execution_count": 6,
   "metadata": {},
   "outputs": [],
   "source": [
    "data_list1=[]\n",
    "for i in range(1,8):\n",
    "    dataPath = './data/lianjia'+str(i)+'.csv'\n",
    "    f=open(dataPath, encoding='gbk', errors='ignore')\n",
    "    data=pd.read_csv(f)\n",
    "    data_list1.append(data)"
   ]
  },
  {
   "cell_type": "code",
   "execution_count": 8,
   "metadata": {},
   "outputs": [],
   "source": [
    "data_list=[]\n",
    "for i in range(1,8):\n",
    "    try:\n",
    "        f=open(r'./data/lianjia{}.csv'.format(i),encoding='gbk')\n",
    "        data=pd.read_csv(f)\n",
    "    except:\n",
    "        f=open(r'./data/lianjia{}.csv'.format(i),encoding='utf-8')\n",
    "        data=pd.read_csv(f)\n",
    "    data_list.append(data)"
   ]
  },
  {
   "cell_type": "code",
   "execution_count": 9,
   "metadata": {},
   "outputs": [
    {
     "output_type": "execute_result",
     "data": {
      "text/plain": [
       "7"
      ]
     },
     "metadata": {},
     "execution_count": 9
    }
   ],
   "source": [
    "len(data_list)"
   ]
  },
  {
   "cell_type": "code",
   "execution_count": 10,
   "metadata": {},
   "outputs": [
    {
     "output_type": "execute_result",
     "data": {
      "text/plain": [
       "       cjtaoshu mendian  cjzongjia zhiwei haoping  cjdanjia        cjxiaoqu  \\\n",
       "24491        22   今日家园店      296.0    店经理  87% 73  33248元/平   京铁家园 2室1厅 89平   \n",
       "24492        22   今日家园店      280.0    店经理  87% 73  25924元/平  今日家园 3室1厅 108平   \n",
       "24493        22   今日家园店      267.0    店经理  87% 73  25345元/平  今日家园 2室2厅 105平   \n",
       "24494        22   今日家园店      285.0    店经理  87% 73  23828元/平  今日家园 3室1厅 119平   \n",
       "24495        22   今日家园店      232.0    店经理  87% 73  23205元/平   今日家园 2室1厅 99平   \n",
       "\n",
       "      xingming cjzhouqi        biaoqian    cjlouceng        cjshijian  \\\n",
       "24491      李明云       59  房东信赖;销售达人;带看活跃    南/高楼层/22层  签约时间：2013-03-03   \n",
       "24492      李明云       59  房东信赖;销售达人;带看活跃    南/低楼层/18层  签约时间：2012-11-27   \n",
       "24493      李明云       59  房东信赖;销售达人;带看活跃    西/高楼层/24层  签约时间：2012-08-27   \n",
       "24494      李明云       59  房东信赖;销售达人;带看活跃  东 北/中楼层/24层  签约时间：2012-08-14   \n",
       "24495      李明云       59  房东信赖;销售达人;带看活跃  东 南/低楼层/24层  签约时间：2012-04-22   \n",
       "\n",
       "      congyenianxian bankuai  \n",
       "24491           5年以上     五棵松  \n",
       "24492           5年以上     五棵松  \n",
       "24493           5年以上     五棵松  \n",
       "24494           5年以上     五棵松  \n",
       "24495           5年以上     五棵松  "
      ],
      "text/html": "<div>\n<style scoped>\n    .dataframe tbody tr th:only-of-type {\n        vertical-align: middle;\n    }\n\n    .dataframe tbody tr th {\n        vertical-align: top;\n    }\n\n    .dataframe thead th {\n        text-align: right;\n    }\n</style>\n<table border=\"1\" class=\"dataframe\">\n  <thead>\n    <tr style=\"text-align: right;\">\n      <th></th>\n      <th>cjtaoshu</th>\n      <th>mendian</th>\n      <th>cjzongjia</th>\n      <th>zhiwei</th>\n      <th>haoping</th>\n      <th>cjdanjia</th>\n      <th>cjxiaoqu</th>\n      <th>xingming</th>\n      <th>cjzhouqi</th>\n      <th>biaoqian</th>\n      <th>cjlouceng</th>\n      <th>cjshijian</th>\n      <th>congyenianxian</th>\n      <th>bankuai</th>\n    </tr>\n  </thead>\n  <tbody>\n    <tr>\n      <th>24491</th>\n      <td>22</td>\n      <td>今日家园店</td>\n      <td>296.0</td>\n      <td>店经理</td>\n      <td>87% 73</td>\n      <td>33248元/平</td>\n      <td>京铁家园 2室1厅 89平</td>\n      <td>李明云</td>\n      <td>59</td>\n      <td>房东信赖;销售达人;带看活跃</td>\n      <td>南/高楼层/22层</td>\n      <td>签约时间：2013-03-03</td>\n      <td>5年以上</td>\n      <td>五棵松</td>\n    </tr>\n    <tr>\n      <th>24492</th>\n      <td>22</td>\n      <td>今日家园店</td>\n      <td>280.0</td>\n      <td>店经理</td>\n      <td>87% 73</td>\n      <td>25924元/平</td>\n      <td>今日家园 3室1厅 108平</td>\n      <td>李明云</td>\n      <td>59</td>\n      <td>房东信赖;销售达人;带看活跃</td>\n      <td>南/低楼层/18层</td>\n      <td>签约时间：2012-11-27</td>\n      <td>5年以上</td>\n      <td>五棵松</td>\n    </tr>\n    <tr>\n      <th>24493</th>\n      <td>22</td>\n      <td>今日家园店</td>\n      <td>267.0</td>\n      <td>店经理</td>\n      <td>87% 73</td>\n      <td>25345元/平</td>\n      <td>今日家园 2室2厅 105平</td>\n      <td>李明云</td>\n      <td>59</td>\n      <td>房东信赖;销售达人;带看活跃</td>\n      <td>西/高楼层/24层</td>\n      <td>签约时间：2012-08-27</td>\n      <td>5年以上</td>\n      <td>五棵松</td>\n    </tr>\n    <tr>\n      <th>24494</th>\n      <td>22</td>\n      <td>今日家园店</td>\n      <td>285.0</td>\n      <td>店经理</td>\n      <td>87% 73</td>\n      <td>23828元/平</td>\n      <td>今日家园 3室1厅 119平</td>\n      <td>李明云</td>\n      <td>59</td>\n      <td>房东信赖;销售达人;带看活跃</td>\n      <td>东 北/中楼层/24层</td>\n      <td>签约时间：2012-08-14</td>\n      <td>5年以上</td>\n      <td>五棵松</td>\n    </tr>\n    <tr>\n      <th>24495</th>\n      <td>22</td>\n      <td>今日家园店</td>\n      <td>232.0</td>\n      <td>店经理</td>\n      <td>87% 73</td>\n      <td>23205元/平</td>\n      <td>今日家园 2室1厅 99平</td>\n      <td>李明云</td>\n      <td>59</td>\n      <td>房东信赖;销售达人;带看活跃</td>\n      <td>东 南/低楼层/24层</td>\n      <td>签约时间：2012-04-22</td>\n      <td>5年以上</td>\n      <td>五棵松</td>\n    </tr>\n  </tbody>\n</table>\n</div>"
     },
     "metadata": {},
     "execution_count": 10
    }
   ],
   "source": [
    "data_list[2].tail()"
   ]
  },
  {
   "cell_type": "code",
   "execution_count": 11,
   "metadata": {},
   "outputs": [],
   "source": [
    "data=pd.concat(data_list)"
   ]
  },
  {
   "cell_type": "code",
   "execution_count": 12,
   "metadata": {},
   "outputs": [
    {
     "output_type": "execute_result",
     "data": {
      "text/plain": [
       "            cjtaoshu      cjzongjia\n",
       "count  162227.000000  162226.000000\n",
       "mean       29.111923     317.481277\n",
       "std        19.607250     207.472106\n",
       "min         1.000000       0.000000\n",
       "25%        16.000000     190.000000\n",
       "50%        26.000000     266.000000\n",
       "75%        38.000000     385.000000\n",
       "max       186.000000    6000.000000"
      ],
      "text/html": "<div>\n<style scoped>\n    .dataframe tbody tr th:only-of-type {\n        vertical-align: middle;\n    }\n\n    .dataframe tbody tr th {\n        vertical-align: top;\n    }\n\n    .dataframe thead th {\n        text-align: right;\n    }\n</style>\n<table border=\"1\" class=\"dataframe\">\n  <thead>\n    <tr style=\"text-align: right;\">\n      <th></th>\n      <th>cjtaoshu</th>\n      <th>cjzongjia</th>\n    </tr>\n  </thead>\n  <tbody>\n    <tr>\n      <th>count</th>\n      <td>162227.000000</td>\n      <td>162226.000000</td>\n    </tr>\n    <tr>\n      <th>mean</th>\n      <td>29.111923</td>\n      <td>317.481277</td>\n    </tr>\n    <tr>\n      <th>std</th>\n      <td>19.607250</td>\n      <td>207.472106</td>\n    </tr>\n    <tr>\n      <th>min</th>\n      <td>1.000000</td>\n      <td>0.000000</td>\n    </tr>\n    <tr>\n      <th>25%</th>\n      <td>16.000000</td>\n      <td>190.000000</td>\n    </tr>\n    <tr>\n      <th>50%</th>\n      <td>26.000000</td>\n      <td>266.000000</td>\n    </tr>\n    <tr>\n      <th>75%</th>\n      <td>38.000000</td>\n      <td>385.000000</td>\n    </tr>\n    <tr>\n      <th>max</th>\n      <td>186.000000</td>\n      <td>6000.000000</td>\n    </tr>\n  </tbody>\n</table>\n</div>"
     },
     "metadata": {},
     "execution_count": 12
    }
   ],
   "source": [
    "data.describe()"
   ]
  },
  {
   "cell_type": "code",
   "execution_count": 13,
   "metadata": {},
   "outputs": [
    {
     "output_type": "stream",
     "name": "stdout",
     "text": [
      "<class 'pandas.core.frame.DataFrame'>\nInt64Index: 162227 entries, 0 to 6680\nData columns (total 14 columns):\n #   Column          Non-Null Count   Dtype  \n---  ------          --------------   -----  \n 0   cjtaoshu        162227 non-null  int64  \n 1   mendian         162214 non-null  object \n 2   cjzongjia       162226 non-null  float64\n 3   zhiwei          162226 non-null  object \n 4   haoping         162226 non-null  object \n 5   cjdanjia        162226 non-null  object \n 6   cjxiaoqu        162226 non-null  object \n 7   xingming        162226 non-null  object \n 8   cjzhouqi        162226 non-null  object \n 9   biaoqian        145553 non-null  object \n 10  cjlouceng       162226 non-null  object \n 11  cjshijian       162226 non-null  object \n 12  congyenianxian  162226 non-null  object \n 13  bankuai         160906 non-null  object \ndtypes: float64(1), int64(1), object(12)\nmemory usage: 18.6+ MB\n"
     ]
    }
   ],
   "source": [
    "data.info()"
   ]
  },
  {
   "cell_type": "code",
   "execution_count": 14,
   "metadata": {},
   "outputs": [
    {
     "output_type": "execute_result",
     "data": {
      "text/plain": [
       "   cjtaoshu mendian  cjzongjia zhiwei  haoping  cjdanjia         cjxiaoqu  \\\n",
       "0        37   红莲北里店      251.0    店经理  97% 141  43997元/平    红莲北里 3室1厅 57平   \n",
       "1        37   红莲北里店      159.0    店经理  97% 141  36969元/平    红莲南里 1室1厅 43平   \n",
       "2        37   红莲北里店      257.0    店经理  97% 141  39046元/平   常青藤嘉园 1室1厅 65平   \n",
       "3        37   红莲北里店      243.0    店经理  97% 141  41313元/平    红莲北里 2室1厅 58平   \n",
       "4        37   红莲北里店      372.5    店经理  97% 141  42053元/平  广安门外大街 3室1厅 88平   \n",
       "\n",
       "  xingming cjzhouqi        biaoqian        cjlouceng        cjshijian  \\\n",
       "0      郭海龙       36  房东信赖;销售达人;带看活跃       南 北/高楼层/6层  签约时间：2015-05-24   \n",
       "1      郭海龙       36  房东信赖;销售达人;带看活跃         南/高楼层/7层  签约时间：2015-05-10   \n",
       "2      郭海龙       36  房东信赖;销售达人;带看活跃        北/低楼层/16层  签约时间：2015-04-26   \n",
       "3      郭海龙       36  房东信赖;销售达人;带看活跃       南 北/高楼层/6层  签约时间：2015-04-04   \n",
       "4      郭海龙       36  房东信赖;销售达人;带看活跃  东 南 西 北/中楼层/18层  签约时间：2015-04-01   \n",
       "\n",
       "  congyenianxian bankuai  \n",
       "0           4-5年     马连道  \n",
       "1           4-5年     马连道  \n",
       "2           4-5年     马连道  \n",
       "3           4-5年     马连道  \n",
       "4           4-5年     马连道  "
      ],
      "text/html": "<div>\n<style scoped>\n    .dataframe tbody tr th:only-of-type {\n        vertical-align: middle;\n    }\n\n    .dataframe tbody tr th {\n        vertical-align: top;\n    }\n\n    .dataframe thead th {\n        text-align: right;\n    }\n</style>\n<table border=\"1\" class=\"dataframe\">\n  <thead>\n    <tr style=\"text-align: right;\">\n      <th></th>\n      <th>cjtaoshu</th>\n      <th>mendian</th>\n      <th>cjzongjia</th>\n      <th>zhiwei</th>\n      <th>haoping</th>\n      <th>cjdanjia</th>\n      <th>cjxiaoqu</th>\n      <th>xingming</th>\n      <th>cjzhouqi</th>\n      <th>biaoqian</th>\n      <th>cjlouceng</th>\n      <th>cjshijian</th>\n      <th>congyenianxian</th>\n      <th>bankuai</th>\n    </tr>\n  </thead>\n  <tbody>\n    <tr>\n      <th>0</th>\n      <td>37</td>\n      <td>红莲北里店</td>\n      <td>251.0</td>\n      <td>店经理</td>\n      <td>97% 141</td>\n      <td>43997元/平</td>\n      <td>红莲北里 3室1厅 57平</td>\n      <td>郭海龙</td>\n      <td>36</td>\n      <td>房东信赖;销售达人;带看活跃</td>\n      <td>南 北/高楼层/6层</td>\n      <td>签约时间：2015-05-24</td>\n      <td>4-5年</td>\n      <td>马连道</td>\n    </tr>\n    <tr>\n      <th>1</th>\n      <td>37</td>\n      <td>红莲北里店</td>\n      <td>159.0</td>\n      <td>店经理</td>\n      <td>97% 141</td>\n      <td>36969元/平</td>\n      <td>红莲南里 1室1厅 43平</td>\n      <td>郭海龙</td>\n      <td>36</td>\n      <td>房东信赖;销售达人;带看活跃</td>\n      <td>南/高楼层/7层</td>\n      <td>签约时间：2015-05-10</td>\n      <td>4-5年</td>\n      <td>马连道</td>\n    </tr>\n    <tr>\n      <th>2</th>\n      <td>37</td>\n      <td>红莲北里店</td>\n      <td>257.0</td>\n      <td>店经理</td>\n      <td>97% 141</td>\n      <td>39046元/平</td>\n      <td>常青藤嘉园 1室1厅 65平</td>\n      <td>郭海龙</td>\n      <td>36</td>\n      <td>房东信赖;销售达人;带看活跃</td>\n      <td>北/低楼层/16层</td>\n      <td>签约时间：2015-04-26</td>\n      <td>4-5年</td>\n      <td>马连道</td>\n    </tr>\n    <tr>\n      <th>3</th>\n      <td>37</td>\n      <td>红莲北里店</td>\n      <td>243.0</td>\n      <td>店经理</td>\n      <td>97% 141</td>\n      <td>41313元/平</td>\n      <td>红莲北里 2室1厅 58平</td>\n      <td>郭海龙</td>\n      <td>36</td>\n      <td>房东信赖;销售达人;带看活跃</td>\n      <td>南 北/高楼层/6层</td>\n      <td>签约时间：2015-04-04</td>\n      <td>4-5年</td>\n      <td>马连道</td>\n    </tr>\n    <tr>\n      <th>4</th>\n      <td>37</td>\n      <td>红莲北里店</td>\n      <td>372.5</td>\n      <td>店经理</td>\n      <td>97% 141</td>\n      <td>42053元/平</td>\n      <td>广安门外大街 3室1厅 88平</td>\n      <td>郭海龙</td>\n      <td>36</td>\n      <td>房东信赖;销售达人;带看活跃</td>\n      <td>东 南 西 北/中楼层/18层</td>\n      <td>签约时间：2015-04-01</td>\n      <td>4-5年</td>\n      <td>马连道</td>\n    </tr>\n  </tbody>\n</table>\n</div>"
     },
     "metadata": {},
     "execution_count": 14
    }
   ],
   "source": [
    "data.head()"
   ]
  },
  {
   "cell_type": "code",
   "execution_count": 15,
   "metadata": {},
   "outputs": [],
   "source": [
    "data=data[['cjdanjia','cjxiaoqu','cjlouceng','bankuai','xingming','cjzongjia','congyenianxian','cjshijian','mendian','zhiwei']]"
   ]
  },
  {
   "cell_type": "code",
   "execution_count": 16,
   "metadata": {},
   "outputs": [
    {
     "output_type": "execute_result",
     "data": {
      "text/plain": [
       "   cjdanjia        cjxiaoqu   cjlouceng bankuai xingming  cjzongjia  \\\n",
       "0  43997元/平   红莲北里 3室1厅 57平  南 北/高楼层/6层     马连道      郭海龙      251.0   \n",
       "1  36969元/平   红莲南里 1室1厅 43平    南/高楼层/7层     马连道      郭海龙      159.0   \n",
       "2  39046元/平  常青藤嘉园 1室1厅 65平   北/低楼层/16层     马连道      郭海龙      257.0   \n",
       "\n",
       "  congyenianxian        cjshijian mendian zhiwei  \n",
       "0           4-5年  签约时间：2015-05-24   红莲北里店    店经理  \n",
       "1           4-5年  签约时间：2015-05-10   红莲北里店    店经理  \n",
       "2           4-5年  签约时间：2015-04-26   红莲北里店    店经理  "
      ],
      "text/html": "<div>\n<style scoped>\n    .dataframe tbody tr th:only-of-type {\n        vertical-align: middle;\n    }\n\n    .dataframe tbody tr th {\n        vertical-align: top;\n    }\n\n    .dataframe thead th {\n        text-align: right;\n    }\n</style>\n<table border=\"1\" class=\"dataframe\">\n  <thead>\n    <tr style=\"text-align: right;\">\n      <th></th>\n      <th>cjdanjia</th>\n      <th>cjxiaoqu</th>\n      <th>cjlouceng</th>\n      <th>bankuai</th>\n      <th>xingming</th>\n      <th>cjzongjia</th>\n      <th>congyenianxian</th>\n      <th>cjshijian</th>\n      <th>mendian</th>\n      <th>zhiwei</th>\n    </tr>\n  </thead>\n  <tbody>\n    <tr>\n      <th>0</th>\n      <td>43997元/平</td>\n      <td>红莲北里 3室1厅 57平</td>\n      <td>南 北/高楼层/6层</td>\n      <td>马连道</td>\n      <td>郭海龙</td>\n      <td>251.0</td>\n      <td>4-5年</td>\n      <td>签约时间：2015-05-24</td>\n      <td>红莲北里店</td>\n      <td>店经理</td>\n    </tr>\n    <tr>\n      <th>1</th>\n      <td>36969元/平</td>\n      <td>红莲南里 1室1厅 43平</td>\n      <td>南/高楼层/7层</td>\n      <td>马连道</td>\n      <td>郭海龙</td>\n      <td>159.0</td>\n      <td>4-5年</td>\n      <td>签约时间：2015-05-10</td>\n      <td>红莲北里店</td>\n      <td>店经理</td>\n    </tr>\n    <tr>\n      <th>2</th>\n      <td>39046元/平</td>\n      <td>常青藤嘉园 1室1厅 65平</td>\n      <td>北/低楼层/16层</td>\n      <td>马连道</td>\n      <td>郭海龙</td>\n      <td>257.0</td>\n      <td>4-5年</td>\n      <td>签约时间：2015-04-26</td>\n      <td>红莲北里店</td>\n      <td>店经理</td>\n    </tr>\n  </tbody>\n</table>\n</div>"
     },
     "metadata": {},
     "execution_count": 16
    }
   ],
   "source": [
    "data.head(3)"
   ]
  },
  {
   "source": [
    "# 数据预处理之前，考虑这个dataframe有没有null值缺失值，有没有异常值，否则直接用一个函数处理会报错。"
   ],
   "cell_type": "code",
   "metadata": {},
   "execution_count": null,
   "outputs": []
  },
  {
   "cell_type": "code",
   "execution_count": 17,
   "metadata": {},
   "outputs": [
    {
     "output_type": "execute_result",
     "data": {
      "text/plain": [
       "      cjdanjia  cjxiaoqu  cjlouceng  bankuai  xingming  cjzongjia  \\\n",
       "0        False     False      False    False     False      False   \n",
       "1        False     False      False    False     False      False   \n",
       "2        False     False      False    False     False      False   \n",
       "3        False     False      False    False     False      False   \n",
       "4        False     False      False    False     False      False   \n",
       "...        ...       ...        ...      ...       ...        ...   \n",
       "6676     False     False      False     True     False      False   \n",
       "6677     False     False      False    False     False      False   \n",
       "6678     False     False      False    False     False      False   \n",
       "6679     False     False      False    False     False      False   \n",
       "6680     False     False      False    False     False      False   \n",
       "\n",
       "      congyenianxian  cjshijian  mendian  zhiwei  \n",
       "0              False      False    False   False  \n",
       "1              False      False    False   False  \n",
       "2              False      False    False   False  \n",
       "3              False      False    False   False  \n",
       "4              False      False    False   False  \n",
       "...              ...        ...      ...     ...  \n",
       "6676           False      False    False   False  \n",
       "6677           False      False    False   False  \n",
       "6678           False      False    False   False  \n",
       "6679           False      False    False   False  \n",
       "6680           False      False    False   False  \n",
       "\n",
       "[162227 rows x 10 columns]"
      ],
      "text/html": "<div>\n<style scoped>\n    .dataframe tbody tr th:only-of-type {\n        vertical-align: middle;\n    }\n\n    .dataframe tbody tr th {\n        vertical-align: top;\n    }\n\n    .dataframe thead th {\n        text-align: right;\n    }\n</style>\n<table border=\"1\" class=\"dataframe\">\n  <thead>\n    <tr style=\"text-align: right;\">\n      <th></th>\n      <th>cjdanjia</th>\n      <th>cjxiaoqu</th>\n      <th>cjlouceng</th>\n      <th>bankuai</th>\n      <th>xingming</th>\n      <th>cjzongjia</th>\n      <th>congyenianxian</th>\n      <th>cjshijian</th>\n      <th>mendian</th>\n      <th>zhiwei</th>\n    </tr>\n  </thead>\n  <tbody>\n    <tr>\n      <th>0</th>\n      <td>False</td>\n      <td>False</td>\n      <td>False</td>\n      <td>False</td>\n      <td>False</td>\n      <td>False</td>\n      <td>False</td>\n      <td>False</td>\n      <td>False</td>\n      <td>False</td>\n    </tr>\n    <tr>\n      <th>1</th>\n      <td>False</td>\n      <td>False</td>\n      <td>False</td>\n      <td>False</td>\n      <td>False</td>\n      <td>False</td>\n      <td>False</td>\n      <td>False</td>\n      <td>False</td>\n      <td>False</td>\n    </tr>\n    <tr>\n      <th>2</th>\n      <td>False</td>\n      <td>False</td>\n      <td>False</td>\n      <td>False</td>\n      <td>False</td>\n      <td>False</td>\n      <td>False</td>\n      <td>False</td>\n      <td>False</td>\n      <td>False</td>\n    </tr>\n    <tr>\n      <th>3</th>\n      <td>False</td>\n      <td>False</td>\n      <td>False</td>\n      <td>False</td>\n      <td>False</td>\n      <td>False</td>\n      <td>False</td>\n      <td>False</td>\n      <td>False</td>\n      <td>False</td>\n    </tr>\n    <tr>\n      <th>4</th>\n      <td>False</td>\n      <td>False</td>\n      <td>False</td>\n      <td>False</td>\n      <td>False</td>\n      <td>False</td>\n      <td>False</td>\n      <td>False</td>\n      <td>False</td>\n      <td>False</td>\n    </tr>\n    <tr>\n      <th>...</th>\n      <td>...</td>\n      <td>...</td>\n      <td>...</td>\n      <td>...</td>\n      <td>...</td>\n      <td>...</td>\n      <td>...</td>\n      <td>...</td>\n      <td>...</td>\n      <td>...</td>\n    </tr>\n    <tr>\n      <th>6676</th>\n      <td>False</td>\n      <td>False</td>\n      <td>False</td>\n      <td>True</td>\n      <td>False</td>\n      <td>False</td>\n      <td>False</td>\n      <td>False</td>\n      <td>False</td>\n      <td>False</td>\n    </tr>\n    <tr>\n      <th>6677</th>\n      <td>False</td>\n      <td>False</td>\n      <td>False</td>\n      <td>False</td>\n      <td>False</td>\n      <td>False</td>\n      <td>False</td>\n      <td>False</td>\n      <td>False</td>\n      <td>False</td>\n    </tr>\n    <tr>\n      <th>6678</th>\n      <td>False</td>\n      <td>False</td>\n      <td>False</td>\n      <td>False</td>\n      <td>False</td>\n      <td>False</td>\n      <td>False</td>\n      <td>False</td>\n      <td>False</td>\n      <td>False</td>\n    </tr>\n    <tr>\n      <th>6679</th>\n      <td>False</td>\n      <td>False</td>\n      <td>False</td>\n      <td>False</td>\n      <td>False</td>\n      <td>False</td>\n      <td>False</td>\n      <td>False</td>\n      <td>False</td>\n      <td>False</td>\n    </tr>\n    <tr>\n      <th>6680</th>\n      <td>False</td>\n      <td>False</td>\n      <td>False</td>\n      <td>False</td>\n      <td>False</td>\n      <td>False</td>\n      <td>False</td>\n      <td>False</td>\n      <td>False</td>\n      <td>False</td>\n    </tr>\n  </tbody>\n</table>\n<p>162227 rows × 10 columns</p>\n</div>"
     },
     "metadata": {},
     "execution_count": 17
    }
   ],
   "source": [
    "data.isnull()"
   ]
  },
  {
   "cell_type": "code",
   "execution_count": 18,
   "metadata": {},
   "outputs": [
    {
     "output_type": "execute_result",
     "data": {
      "text/plain": [
       "cjdanjia             1\n",
       "cjxiaoqu             1\n",
       "cjlouceng            1\n",
       "bankuai           1321\n",
       "xingming             1\n",
       "cjzongjia            1\n",
       "congyenianxian       1\n",
       "cjshijian            1\n",
       "mendian             13\n",
       "zhiwei               1\n",
       "dtype: int64"
      ]
     },
     "metadata": {},
     "execution_count": 18
    }
   ],
   "source": [
    "(data.isnull()).sum()"
   ]
  },
  {
   "cell_type": "code",
   "execution_count": 19,
   "metadata": {},
   "outputs": [
    {
     "output_type": "execute_result",
     "data": {
      "text/plain": [
       "      cjdanjia cjxiaoqu cjlouceng bankuai xingming  cjzongjia congyenianxian  \\\n",
       "57119      NaN      NaN       NaN     NaN      NaN        NaN            NaN   \n",
       "\n",
       "      cjshijian mendian zhiwei  \n",
       "57119       NaN     NaN    NaN  "
      ],
      "text/html": "<div>\n<style scoped>\n    .dataframe tbody tr th:only-of-type {\n        vertical-align: middle;\n    }\n\n    .dataframe tbody tr th {\n        vertical-align: top;\n    }\n\n    .dataframe thead th {\n        text-align: right;\n    }\n</style>\n<table border=\"1\" class=\"dataframe\">\n  <thead>\n    <tr style=\"text-align: right;\">\n      <th></th>\n      <th>cjdanjia</th>\n      <th>cjxiaoqu</th>\n      <th>cjlouceng</th>\n      <th>bankuai</th>\n      <th>xingming</th>\n      <th>cjzongjia</th>\n      <th>congyenianxian</th>\n      <th>cjshijian</th>\n      <th>mendian</th>\n      <th>zhiwei</th>\n    </tr>\n  </thead>\n  <tbody>\n    <tr>\n      <th>57119</th>\n      <td>NaN</td>\n      <td>NaN</td>\n      <td>NaN</td>\n      <td>NaN</td>\n      <td>NaN</td>\n      <td>NaN</td>\n      <td>NaN</td>\n      <td>NaN</td>\n      <td>NaN</td>\n      <td>NaN</td>\n    </tr>\n  </tbody>\n</table>\n</div>"
     },
     "metadata": {},
     "execution_count": 19
    }
   ],
   "source": [
    "data[data.cjdanjia.isnull()]"
   ]
  },
  {
   "cell_type": "code",
   "execution_count": 20,
   "metadata": {},
   "outputs": [],
   "source": [
    "data.dropna(how='all',inplace=True)"
   ]
  },
  {
   "cell_type": "code",
   "execution_count": 21,
   "metadata": {},
   "outputs": [
    {
     "output_type": "execute_result",
     "data": {
      "text/plain": [
       "cjdanjia             0\n",
       "cjxiaoqu             0\n",
       "cjlouceng            0\n",
       "bankuai           1320\n",
       "xingming             0\n",
       "cjzongjia            0\n",
       "congyenianxian       0\n",
       "cjshijian            0\n",
       "mendian             12\n",
       "zhiwei               0\n",
       "dtype: int64"
      ]
     },
     "metadata": {},
     "execution_count": 21
    }
   ],
   "source": [
    "data.isnull().sum()"
   ]
  },
  {
   "cell_type": "code",
   "execution_count": 22,
   "metadata": {},
   "outputs": [
    {
     "output_type": "execute_result",
     "data": {
      "text/plain": [
       "17123"
      ]
     },
     "metadata": {},
     "execution_count": 22
    }
   ],
   "source": [
    "(data.duplicated()).sum()"
   ]
  },
  {
   "cell_type": "markdown",
   "metadata": {},
   "source": [
    "### data.drop_duplicates()  的作用是直接抛弃重复值。\n",
    "### 但是要考虑到板块的数据有很多缺失值，因为drop_duplicates是默认抛弃第二条重复的值\n",
    "### 若两条数据，前面的cjdnajia，cjxiaoqu，cilouceng是重复的，但是第一条的bankuai为null值，第二条是有数据的，则会默认抛弃第二条有效信息\n",
    "### 为了避免这种情况，我们要把null值的那条全部放到后面去。"
   ]
  },
  {
   "cell_type": "code",
   "execution_count": 23,
   "metadata": {},
   "outputs": [
    {
     "output_type": "execute_result",
     "data": {
      "text/plain": [
       "19887"
      ]
     },
     "metadata": {},
     "execution_count": 23
    }
   ],
   "source": [
    "(data.duplicated(subset=['cjdanjia','cjxiaoqu','cjlouceng','bankuai'])).sum()"
   ]
  },
  {
   "cell_type": "code",
   "execution_count": 24,
   "metadata": {},
   "outputs": [],
   "source": [
    "data.sort_values(by='bankuai',inplace=True)"
   ]
  },
  {
   "cell_type": "code",
   "execution_count": 25,
   "metadata": {},
   "outputs": [],
   "source": [
    "data.drop_duplicates(subset=['cjdanjia','cjxiaoqu','cjlouceng'],inplace=True)"
   ]
  },
  {
   "cell_type": "code",
   "execution_count": 26,
   "metadata": {},
   "outputs": [],
   "source": [
    "#数据类型转换，数据异常值处理，数据离散化处理"
   ]
  },
  {
   "cell_type": "code",
   "execution_count": 27,
   "metadata": {},
   "outputs": [
    {
     "output_type": "execute_result",
     "data": {
      "text/plain": [
       "       cjdanjia          cjxiaoqu    cjlouceng bankuai xingming  cjzongjia  \\\n",
       "18111  34464元/平     麦子店街 2室1厅 52平   南 北/低楼层/6层     CBD      王海涛      182.0   \n",
       "38119  53131元/平  合生国际花园 2室2厅 104平    南/中楼层/18层     CBD      李铁岗      555.0   \n",
       "38118  55312元/平   富力城B区 3室2厅 148平  东 南/中楼层/12层     CBD      李铁岗      820.0   \n",
       "38117  66485元/平   富力城D区 3室2厅 200平  南 北/低楼层/14层     CBD      李铁岗     1335.0   \n",
       "38116  55738元/平  合生国际花园 2室2厅 103平    南/低楼层/18层     CBD      李铁岗      578.0   \n",
       "\n",
       "      congyenianxian        cjshijian mendian zhiwei  \n",
       "18111           5年以上  签约时间：2015-10-17  阳光100店  高级经纪人  \n",
       "38119           4-5年  签约时间：2013-09-02   龙吟半岛店    店经理  \n",
       "38118           4-5年  签约时间：2013-10-24   龙吟半岛店    店经理  \n",
       "38117           4-5年  签约时间：2014-01-05   龙吟半岛店    店经理  \n",
       "38116           4-5年  签约时间：2014-04-26   龙吟半岛店    店经理  "
      ],
      "text/html": "<div>\n<style scoped>\n    .dataframe tbody tr th:only-of-type {\n        vertical-align: middle;\n    }\n\n    .dataframe tbody tr th {\n        vertical-align: top;\n    }\n\n    .dataframe thead th {\n        text-align: right;\n    }\n</style>\n<table border=\"1\" class=\"dataframe\">\n  <thead>\n    <tr style=\"text-align: right;\">\n      <th></th>\n      <th>cjdanjia</th>\n      <th>cjxiaoqu</th>\n      <th>cjlouceng</th>\n      <th>bankuai</th>\n      <th>xingming</th>\n      <th>cjzongjia</th>\n      <th>congyenianxian</th>\n      <th>cjshijian</th>\n      <th>mendian</th>\n      <th>zhiwei</th>\n    </tr>\n  </thead>\n  <tbody>\n    <tr>\n      <th>18111</th>\n      <td>34464元/平</td>\n      <td>麦子店街 2室1厅 52平</td>\n      <td>南 北/低楼层/6层</td>\n      <td>CBD</td>\n      <td>王海涛</td>\n      <td>182.0</td>\n      <td>5年以上</td>\n      <td>签约时间：2015-10-17</td>\n      <td>阳光100店</td>\n      <td>高级经纪人</td>\n    </tr>\n    <tr>\n      <th>38119</th>\n      <td>53131元/平</td>\n      <td>合生国际花园 2室2厅 104平</td>\n      <td>南/中楼层/18层</td>\n      <td>CBD</td>\n      <td>李铁岗</td>\n      <td>555.0</td>\n      <td>4-5年</td>\n      <td>签约时间：2013-09-02</td>\n      <td>龙吟半岛店</td>\n      <td>店经理</td>\n    </tr>\n    <tr>\n      <th>38118</th>\n      <td>55312元/平</td>\n      <td>富力城B区 3室2厅 148平</td>\n      <td>东 南/中楼层/12层</td>\n      <td>CBD</td>\n      <td>李铁岗</td>\n      <td>820.0</td>\n      <td>4-5年</td>\n      <td>签约时间：2013-10-24</td>\n      <td>龙吟半岛店</td>\n      <td>店经理</td>\n    </tr>\n    <tr>\n      <th>38117</th>\n      <td>66485元/平</td>\n      <td>富力城D区 3室2厅 200平</td>\n      <td>南 北/低楼层/14层</td>\n      <td>CBD</td>\n      <td>李铁岗</td>\n      <td>1335.0</td>\n      <td>4-5年</td>\n      <td>签约时间：2014-01-05</td>\n      <td>龙吟半岛店</td>\n      <td>店经理</td>\n    </tr>\n    <tr>\n      <th>38116</th>\n      <td>55738元/平</td>\n      <td>合生国际花园 2室2厅 103平</td>\n      <td>南/低楼层/18层</td>\n      <td>CBD</td>\n      <td>李铁岗</td>\n      <td>578.0</td>\n      <td>4-5年</td>\n      <td>签约时间：2014-04-26</td>\n      <td>龙吟半岛店</td>\n      <td>店经理</td>\n    </tr>\n  </tbody>\n</table>\n</div>"
     },
     "metadata": {},
     "execution_count": 27
    }
   ],
   "source": [
    "data.head()"
   ]
  },
  {
   "cell_type": "code",
   "execution_count": 28,
   "metadata": {},
   "outputs": [
    {
     "output_type": "execute_result",
     "data": {
      "text/plain": [
       "0"
      ]
     },
     "metadata": {},
     "execution_count": 28
    }
   ],
   "source": [
    "(~data.cjdanjia.str.contains('元/平')).sum()"
   ]
  },
  {
   "cell_type": "code",
   "execution_count": 29,
   "metadata": {},
   "outputs": [
    {
     "output_type": "execute_result",
     "data": {
      "text/plain": [
       "18111    3.45\n",
       "38119    5.31\n",
       "38118    5.53\n",
       "38117    6.65\n",
       "38116    5.57\n",
       "         ... \n",
       "6672     2.61\n",
       "6673     1.85\n",
       "6674     1.57\n",
       "6675     1.49\n",
       "6676     1.25\n",
       "Name: cjdanjia, Length: 142214, dtype: float64"
      ]
     },
     "metadata": {},
     "execution_count": 29
    }
   ],
   "source": [
    "data.cjdanjia.map(lambda x:round(float(x.replace('元/平',''))/10000,2))"
   ]
  },
  {
   "cell_type": "code",
   "execution_count": 30,
   "metadata": {},
   "outputs": [
    {
     "output_type": "execute_result",
     "data": {
      "text/plain": [
       "18111    3.45\n",
       "38119    5.31\n",
       "38118    5.53\n",
       "38117    6.65\n",
       "38116    5.57\n",
       "         ... \n",
       "6672     2.61\n",
       "6673     1.85\n",
       "6674     1.57\n",
       "6675     1.49\n",
       "6676     1.25\n",
       "Name: cjdanjia, Length: 142214, dtype: float64"
      ]
     },
     "metadata": {},
     "execution_count": 30
    }
   ],
   "source": [
    "data.cjdanjia.str.replace('元/平','').astype(np.float32).map(lambda x:round(x/10000,2))"
   ]
  },
  {
   "cell_type": "code",
   "execution_count": 32,
   "metadata": {},
   "outputs": [],
   "source": [
    "data=data.assign(cjdanjia=data.cjdanjia.str.replace('元/平','').astype(np.float32).map(lambda x:round(x/10000,2)))"
   ]
  },
  {
   "cell_type": "code",
   "execution_count": 35,
   "metadata": {},
   "outputs": [
    {
     "output_type": "error",
     "ename": "AttributeError",
     "evalue": "Can only use .str accessor with string values!",
     "traceback": [
      "\u001b[0;31m---------------------------------------------------------------------------\u001b[0m",
      "\u001b[0;31mAttributeError\u001b[0m                            Traceback (most recent call last)",
      "\u001b[0;32m<ipython-input-35-ad90423a0990>\u001b[0m in \u001b[0;36m<module>\u001b[0;34m\u001b[0m\n\u001b[0;32m----> 1\u001b[0;31m \u001b[0mdata\u001b[0m\u001b[0;34m[\u001b[0m\u001b[0;34m'cjdanjia'\u001b[0m\u001b[0;34m]\u001b[0m\u001b[0;34m=\u001b[0m\u001b[0mdata\u001b[0m\u001b[0;34m.\u001b[0m\u001b[0mcjdanjia\u001b[0m\u001b[0;34m.\u001b[0m\u001b[0mstr\u001b[0m\u001b[0;34m.\u001b[0m\u001b[0mreplace\u001b[0m\u001b[0;34m(\u001b[0m\u001b[0;34m'元/平'\u001b[0m\u001b[0;34m,\u001b[0m\u001b[0;34m''\u001b[0m\u001b[0;34m)\u001b[0m\u001b[0;34m.\u001b[0m\u001b[0mastype\u001b[0m\u001b[0;34m(\u001b[0m\u001b[0mnp\u001b[0m\u001b[0;34m.\u001b[0m\u001b[0mfloat32\u001b[0m\u001b[0;34m)\u001b[0m\u001b[0;34m.\u001b[0m\u001b[0mmap\u001b[0m\u001b[0;34m(\u001b[0m\u001b[0;32mlambda\u001b[0m \u001b[0mx\u001b[0m\u001b[0;34m:\u001b[0m\u001b[0mround\u001b[0m\u001b[0;34m(\u001b[0m\u001b[0mx\u001b[0m\u001b[0;34m/\u001b[0m\u001b[0;36m10000\u001b[0m\u001b[0;34m,\u001b[0m\u001b[0;36m2\u001b[0m\u001b[0;34m)\u001b[0m\u001b[0;34m)\u001b[0m\u001b[0;34m\u001b[0m\u001b[0;34m\u001b[0m\u001b[0m\n\u001b[0m",
      "\u001b[0;32m/usr/local/Caskroom/miniconda/base/envs/cv-base/lib/python3.8/site-packages/pandas/core/generic.py\u001b[0m in \u001b[0;36m__getattr__\u001b[0;34m(self, name)\u001b[0m\n\u001b[1;32m   5459\u001b[0m             \u001b[0;32mor\u001b[0m \u001b[0mname\u001b[0m \u001b[0;32min\u001b[0m \u001b[0mself\u001b[0m\u001b[0;34m.\u001b[0m\u001b[0m_accessors\u001b[0m\u001b[0;34m\u001b[0m\u001b[0;34m\u001b[0m\u001b[0m\n\u001b[1;32m   5460\u001b[0m         ):\n\u001b[0;32m-> 5461\u001b[0;31m             \u001b[0;32mreturn\u001b[0m \u001b[0mobject\u001b[0m\u001b[0;34m.\u001b[0m\u001b[0m__getattribute__\u001b[0m\u001b[0;34m(\u001b[0m\u001b[0mself\u001b[0m\u001b[0;34m,\u001b[0m \u001b[0mname\u001b[0m\u001b[0;34m)\u001b[0m\u001b[0;34m\u001b[0m\u001b[0;34m\u001b[0m\u001b[0m\n\u001b[0m\u001b[1;32m   5462\u001b[0m         \u001b[0;32melse\u001b[0m\u001b[0;34m:\u001b[0m\u001b[0;34m\u001b[0m\u001b[0;34m\u001b[0m\u001b[0m\n\u001b[1;32m   5463\u001b[0m             \u001b[0;32mif\u001b[0m \u001b[0mself\u001b[0m\u001b[0;34m.\u001b[0m\u001b[0m_info_axis\u001b[0m\u001b[0;34m.\u001b[0m\u001b[0m_can_hold_identifiers_and_holds_name\u001b[0m\u001b[0;34m(\u001b[0m\u001b[0mname\u001b[0m\u001b[0;34m)\u001b[0m\u001b[0;34m:\u001b[0m\u001b[0;34m\u001b[0m\u001b[0;34m\u001b[0m\u001b[0m\n",
      "\u001b[0;32m/usr/local/Caskroom/miniconda/base/envs/cv-base/lib/python3.8/site-packages/pandas/core/accessor.py\u001b[0m in \u001b[0;36m__get__\u001b[0;34m(self, obj, cls)\u001b[0m\n\u001b[1;32m    178\u001b[0m             \u001b[0;31m# we're accessing the attribute of the class, i.e., Dataset.geo\u001b[0m\u001b[0;34m\u001b[0m\u001b[0;34m\u001b[0m\u001b[0;34m\u001b[0m\u001b[0m\n\u001b[1;32m    179\u001b[0m             \u001b[0;32mreturn\u001b[0m \u001b[0mself\u001b[0m\u001b[0;34m.\u001b[0m\u001b[0m_accessor\u001b[0m\u001b[0;34m\u001b[0m\u001b[0;34m\u001b[0m\u001b[0m\n\u001b[0;32m--> 180\u001b[0;31m         \u001b[0maccessor_obj\u001b[0m \u001b[0;34m=\u001b[0m \u001b[0mself\u001b[0m\u001b[0;34m.\u001b[0m\u001b[0m_accessor\u001b[0m\u001b[0;34m(\u001b[0m\u001b[0mobj\u001b[0m\u001b[0;34m)\u001b[0m\u001b[0;34m\u001b[0m\u001b[0;34m\u001b[0m\u001b[0m\n\u001b[0m\u001b[1;32m    181\u001b[0m         \u001b[0;31m# Replace the property with the accessor object. Inspired by:\u001b[0m\u001b[0;34m\u001b[0m\u001b[0;34m\u001b[0m\u001b[0;34m\u001b[0m\u001b[0m\n\u001b[1;32m    182\u001b[0m         \u001b[0;31m# https://www.pydanny.com/cached-property.html\u001b[0m\u001b[0;34m\u001b[0m\u001b[0;34m\u001b[0m\u001b[0;34m\u001b[0m\u001b[0m\n",
      "\u001b[0;32m/usr/local/Caskroom/miniconda/base/envs/cv-base/lib/python3.8/site-packages/pandas/core/strings/accessor.py\u001b[0m in \u001b[0;36m__init__\u001b[0;34m(self, data)\u001b[0m\n\u001b[1;32m    152\u001b[0m         \u001b[0;32mfrom\u001b[0m \u001b[0mpandas\u001b[0m\u001b[0;34m.\u001b[0m\u001b[0mcore\u001b[0m\u001b[0;34m.\u001b[0m\u001b[0marrays\u001b[0m\u001b[0;34m.\u001b[0m\u001b[0mstring_\u001b[0m \u001b[0;32mimport\u001b[0m \u001b[0mStringDtype\u001b[0m\u001b[0;34m\u001b[0m\u001b[0;34m\u001b[0m\u001b[0m\n\u001b[1;32m    153\u001b[0m \u001b[0;34m\u001b[0m\u001b[0m\n\u001b[0;32m--> 154\u001b[0;31m         \u001b[0mself\u001b[0m\u001b[0;34m.\u001b[0m\u001b[0m_inferred_dtype\u001b[0m \u001b[0;34m=\u001b[0m \u001b[0mself\u001b[0m\u001b[0;34m.\u001b[0m\u001b[0m_validate\u001b[0m\u001b[0;34m(\u001b[0m\u001b[0mdata\u001b[0m\u001b[0;34m)\u001b[0m\u001b[0;34m\u001b[0m\u001b[0;34m\u001b[0m\u001b[0m\n\u001b[0m\u001b[1;32m    155\u001b[0m         \u001b[0mself\u001b[0m\u001b[0;34m.\u001b[0m\u001b[0m_is_categorical\u001b[0m \u001b[0;34m=\u001b[0m \u001b[0mis_categorical_dtype\u001b[0m\u001b[0;34m(\u001b[0m\u001b[0mdata\u001b[0m\u001b[0;34m.\u001b[0m\u001b[0mdtype\u001b[0m\u001b[0;34m)\u001b[0m\u001b[0;34m\u001b[0m\u001b[0;34m\u001b[0m\u001b[0m\n\u001b[1;32m    156\u001b[0m         \u001b[0mself\u001b[0m\u001b[0;34m.\u001b[0m\u001b[0m_is_string\u001b[0m \u001b[0;34m=\u001b[0m \u001b[0misinstance\u001b[0m\u001b[0;34m(\u001b[0m\u001b[0mdata\u001b[0m\u001b[0;34m.\u001b[0m\u001b[0mdtype\u001b[0m\u001b[0;34m,\u001b[0m \u001b[0mStringDtype\u001b[0m\u001b[0;34m)\u001b[0m\u001b[0;34m\u001b[0m\u001b[0;34m\u001b[0m\u001b[0m\n",
      "\u001b[0;32m/usr/local/Caskroom/miniconda/base/envs/cv-base/lib/python3.8/site-packages/pandas/core/strings/accessor.py\u001b[0m in \u001b[0;36m_validate\u001b[0;34m(data)\u001b[0m\n\u001b[1;32m    215\u001b[0m \u001b[0;34m\u001b[0m\u001b[0m\n\u001b[1;32m    216\u001b[0m         \u001b[0;32mif\u001b[0m \u001b[0minferred_dtype\u001b[0m \u001b[0;32mnot\u001b[0m \u001b[0;32min\u001b[0m \u001b[0mallowed_types\u001b[0m\u001b[0;34m:\u001b[0m\u001b[0;34m\u001b[0m\u001b[0;34m\u001b[0m\u001b[0m\n\u001b[0;32m--> 217\u001b[0;31m             \u001b[0;32mraise\u001b[0m \u001b[0mAttributeError\u001b[0m\u001b[0;34m(\u001b[0m\u001b[0;34m\"Can only use .str accessor with string values!\"\u001b[0m\u001b[0;34m)\u001b[0m\u001b[0;34m\u001b[0m\u001b[0;34m\u001b[0m\u001b[0m\n\u001b[0m\u001b[1;32m    218\u001b[0m         \u001b[0;32mreturn\u001b[0m \u001b[0minferred_dtype\u001b[0m\u001b[0;34m\u001b[0m\u001b[0;34m\u001b[0m\u001b[0m\n\u001b[1;32m    219\u001b[0m \u001b[0;34m\u001b[0m\u001b[0m\n",
      "\u001b[0;31mAttributeError\u001b[0m: Can only use .str accessor with string values!"
     ]
    }
   ],
   "source": [
    "data['cjdanjia']=data.cjdanjia.str.replace('元/平','').astype(np.float32).map(lambda x:round(x/10000,2))"
   ]
  },
  {
   "cell_type": "code",
   "execution_count": null,
   "metadata": {},
   "outputs": [],
   "source": [
    "data.head()"
   ]
  },
  {
   "cell_type": "code",
   "execution_count": null,
   "metadata": {},
   "outputs": [],
   "source": [
    "data.cjdanjia.min()"
   ]
  },
  {
   "cell_type": "code",
   "execution_count": null,
   "metadata": {},
   "outputs": [],
   "source": [
    "data.cjdanjia.max()"
   ]
  },
  {
   "cell_type": "code",
   "execution_count": null,
   "metadata": {},
   "outputs": [],
   "source": [
    "data=data[data.cjdanjia>0]"
   ]
  },
  {
   "cell_type": "code",
   "execution_count": null,
   "metadata": {},
   "outputs": [],
   "source": [
    "data.cjdanjia.min()"
   ]
  },
  {
   "cell_type": "code",
   "execution_count": null,
   "metadata": {},
   "outputs": [],
   "source": [
    "data=data[data.cjdanjia>0.5]"
   ]
  },
  {
   "cell_type": "code",
   "execution_count": null,
   "metadata": {},
   "outputs": [],
   "source": [
    "data.cjdanjia.min()"
   ]
  },
  {
   "cell_type": "code",
   "execution_count": null,
   "metadata": {},
   "outputs": [],
   "source": [
    "len(data)"
   ]
  },
  {
   "cell_type": "code",
   "execution_count": null,
   "metadata": {},
   "outputs": [],
   "source": [
    "bins=[0,1,2,3,4,5,7,9,11,13,15]\n",
    "pd.cut(data.cjdanjia,bins)"
   ]
  },
  {
   "cell_type": "code",
   "execution_count": null,
   "metadata": {},
   "outputs": [],
   "source": [
    "pd.cut(data.cjdanjia,bins).value_counts()"
   ]
  },
  {
   "cell_type": "code",
   "execution_count": null,
   "metadata": {},
   "outputs": [],
   "source": [
    "pd.cut(data.cjdanjia,bins).value_counts().plot()"
   ]
  },
  {
   "cell_type": "code",
   "execution_count": null,
   "metadata": {},
   "outputs": [],
   "source": [
    "pd.cut(data.cjdanjia,bins).value_counts().plot.bar(rot=20)"
   ]
  },
  {
   "cell_type": "code",
   "execution_count": null,
   "metadata": {},
   "outputs": [],
   "source": [
    "pd.cut(data.cjdanjia,bins).value_counts().plot.pie(figsize=(8,8))"
   ]
  },
  {
   "cell_type": "markdown",
   "metadata": {},
   "source": [
    "# 字符串处理"
   ]
  },
  {
   "cell_type": "code",
   "execution_count": null,
   "metadata": {},
   "outputs": [],
   "source": [
    "data.head()"
   ]
  },
  {
   "cell_type": "code",
   "execution_count": null,
   "metadata": {},
   "outputs": [],
   "source": [
    "(data.cjlouceng.str.split('/').map(len)!=3).sum()"
   ]
  },
  {
   "cell_type": "code",
   "execution_count": null,
   "metadata": {},
   "outputs": [],
   "source": [
    "data.cjlouceng"
   ]
  },
  {
   "cell_type": "code",
   "execution_count": null,
   "metadata": {},
   "outputs": [],
   "source": [
    "data.cjlouceng.map(lambda x:x.split('/')[0])"
   ]
  },
  {
   "cell_type": "code",
   "execution_count": null,
   "metadata": {},
   "outputs": [],
   "source": [
    "data['chaoxiang']=data.cjlouceng.map(lambda x:x.split('/')[0])"
   ]
  },
  {
   "cell_type": "code",
   "execution_count": null,
   "metadata": {},
   "outputs": [],
   "source": [
    "data"
   ]
  },
  {
   "cell_type": "code",
   "execution_count": null,
   "metadata": {},
   "outputs": [],
   "source": [
    "data['louceng']=data.cjlouceng.map(lambda x:x.split('/')[1])"
   ]
  },
  {
   "cell_type": "code",
   "execution_count": null,
   "metadata": {},
   "outputs": [],
   "source": [
    "data"
   ]
  },
  {
   "cell_type": "code",
   "execution_count": null,
   "metadata": {},
   "outputs": [],
   "source": [
    "data.louceng.unique()"
   ]
  },
  {
   "cell_type": "code",
   "execution_count": null,
   "metadata": {},
   "outputs": [],
   "source": [
    "#还有未知？还有空字符串？对于这部分数据我们可以处理一下。"
   ]
  },
  {
   "cell_type": "code",
   "execution_count": null,
   "metadata": {
    "scrolled": true
   },
   "outputs": [],
   "source": [
    "data[data.louceng=='']"
   ]
  },
  {
   "cell_type": "code",
   "execution_count": null,
   "metadata": {},
   "outputs": [],
   "source": [
    "data[data.louceng=='未知']"
   ]
  },
  {
   "cell_type": "code",
   "execution_count": null,
   "metadata": {},
   "outputs": [],
   "source": [
    "data=data[(data.louceng!='未知')&(data.louceng!='')]"
   ]
  },
  {
   "cell_type": "code",
   "execution_count": null,
   "metadata": {},
   "outputs": [],
   "source": [
    "data"
   ]
  },
  {
   "cell_type": "code",
   "execution_count": null,
   "metadata": {},
   "outputs": [],
   "source": [
    "pd.get_dummies(data.louceng)"
   ]
  },
  {
   "cell_type": "code",
   "execution_count": null,
   "metadata": {},
   "outputs": [],
   "source": [
    "data.join(pd.get_dummies(data.louceng))"
   ]
  },
  {
   "cell_type": "code",
   "execution_count": null,
   "metadata": {},
   "outputs": [],
   "source": [
    "data"
   ]
  },
  {
   "cell_type": "code",
   "execution_count": null,
   "metadata": {},
   "outputs": [],
   "source": [
    "pd.get_dummies(data.louceng).sum()"
   ]
  },
  {
   "cell_type": "code",
   "execution_count": null,
   "metadata": {},
   "outputs": [],
   "source": [
    "pd.get_dummies(data.louceng).sum().plot.bar()"
   ]
  },
  {
   "cell_type": "code",
   "execution_count": null,
   "metadata": {},
   "outputs": [],
   "source": [
    "(pd.get_dummies(data.louceng).sum()).to_csv('loucengfenbu3.csv',encoding='utf_8_sig')"
   ]
  },
  {
   "cell_type": "markdown",
   "metadata": {},
   "source": [
    "# 分组运算与布尔过滤与透视表"
   ]
  },
  {
   "cell_type": "code",
   "execution_count": null,
   "metadata": {},
   "outputs": [],
   "source": [
    "data.head()"
   ]
  },
  {
   "cell_type": "code",
   "execution_count": null,
   "metadata": {},
   "outputs": [],
   "source": [
    "data['cjshijian']=data.cjshijian.map(lambda x:x.split('：')[1])"
   ]
  },
  {
   "cell_type": "code",
   "execution_count": null,
   "metadata": {},
   "outputs": [],
   "source": [
    "data['year']=data.cjshijian.map(lambda x:x.split('-')[0])"
   ]
  },
  {
   "cell_type": "code",
   "execution_count": null,
   "metadata": {},
   "outputs": [],
   "source": [
    "data.groupby(['year','xingming'])['xingming'].value_counts()"
   ]
  },
  {
   "cell_type": "code",
   "execution_count": null,
   "metadata": {
    "scrolled": false
   },
   "outputs": [],
   "source": [
    "data.groupby(['year','xingming'])['xingming'].count()"
   ]
  },
  {
   "cell_type": "code",
   "execution_count": null,
   "metadata": {},
   "outputs": [],
   "source": [
    "data.groupby(['year','xingming'])['xingming'].count().to_csv('butongnianfenjingjiren.csv',encoding='utf_8_sig')"
   ]
  },
  {
   "cell_type": "code",
   "execution_count": null,
   "metadata": {},
   "outputs": [],
   "source": [
    "data.groupby(['year','mendian'])['mendian'].count()"
   ]
  },
  {
   "cell_type": "code",
   "execution_count": null,
   "metadata": {},
   "outputs": [],
   "source": [
    "data_group=data.groupby(['xingming','congyenianxian'])['cjzongjia'].sum()"
   ]
  },
  {
   "cell_type": "code",
   "execution_count": null,
   "metadata": {
    "scrolled": true
   },
   "outputs": [],
   "source": [
    "data_group[data_group>10000]"
   ]
  },
  {
   "cell_type": "code",
   "execution_count": null,
   "metadata": {},
   "outputs": [],
   "source": [
    "data_group[data_group>10000].plot()"
   ]
  },
  {
   "cell_type": "code",
   "execution_count": null,
   "metadata": {},
   "outputs": [],
   "source": [
    "data_1w=data.pivot_table('cjzongjia',index='xingming',columns='congyenianxian',aggfunc=sum)\n",
    "data_1w"
   ]
  },
  {
   "cell_type": "code",
   "execution_count": null,
   "metadata": {},
   "outputs": [],
   "source": [
    "(data_1w>10000).sum()"
   ]
  },
  {
   "cell_type": "code",
   "execution_count": null,
   "metadata": {},
   "outputs": [],
   "source": [
    "plt.rcParams['font.sans-serif']=['SimHei']  #用来显示中文标签\n",
    "(data_1w>10000).sum().plot.bar()"
   ]
  },
  {
   "cell_type": "code",
   "execution_count": null,
   "metadata": {
    "scrolled": false
   },
   "outputs": [],
   "source": [
    "plt.rcParams['font.sans-serif']=['simhei']  #用来显示中文标签\n"
   ]
  },
  {
   "cell_type": "code",
   "execution_count": null,
   "metadata": {},
   "outputs": [],
   "source": [
    "(data_1w>10000).sum().plot.bar()"
   ]
  },
  {
   "cell_type": "code",
   "execution_count": null,
   "metadata": {},
   "outputs": [],
   "source": [
    "import matplotlib\n",
    "matplotlib.matplotlib_fname()"
   ]
  },
  {
   "cell_type": "code",
   "execution_count": null,
   "metadata": {},
   "outputs": [],
   "source": [
    "((data_1w>10000).sum()).to_csv('nianxianfenbu1.csv',encoding='utf_8_sig')"
   ]
  },
  {
   "cell_type": "markdown",
   "metadata": {},
   "source": [
    "# 自己的分析"
   ]
  },
  {
   "cell_type": "code",
   "execution_count": null,
   "metadata": {},
   "outputs": [],
   "source": [
    "data.head()"
   ]
  },
  {
   "cell_type": "code",
   "execution_count": null,
   "metadata": {},
   "outputs": [],
   "source": [
    "data.head()"
   ]
  },
  {
   "cell_type": "code",
   "execution_count": null,
   "metadata": {},
   "outputs": [],
   "source": [
    "data.groupby('year')['cjdanjia'].count()"
   ]
  },
  {
   "cell_type": "code",
   "execution_count": null,
   "metadata": {},
   "outputs": [],
   "source": [
    "data.groupby('year')['cjdanjia'].count().to_csv('chengjiaoliang_year.csv',encoding='utf_8_sig')"
   ]
  },
  {
   "cell_type": "code",
   "execution_count": null,
   "metadata": {},
   "outputs": [],
   "source": [
    "data.groupby('year')['cjdanjia'].mean()"
   ]
  },
  {
   "cell_type": "code",
   "execution_count": null,
   "metadata": {},
   "outputs": [],
   "source": [
    "(data.groupby('year')['cjdanjia'].mean()).to_csv('danjiajunzhi_year.csv',encoding='utf_8_sig')"
   ]
  },
  {
   "cell_type": "code",
   "execution_count": null,
   "metadata": {},
   "outputs": [],
   "source": [
    "data.groupby('year')['cjzongjia'].mean()"
   ]
  },
  {
   "cell_type": "code",
   "execution_count": null,
   "metadata": {},
   "outputs": [],
   "source": [
    "(data.groupby('year')['cjzongjia'].mean()).to_csv('chengjiaozongjia_year.csv',encoding='utf_8_sig')"
   ]
  },
  {
   "cell_type": "code",
   "execution_count": null,
   "metadata": {},
   "outputs": [],
   "source": [
    "data.groupby('bankuai')['cjdanjia'].count()"
   ]
  },
  {
   "cell_type": "code",
   "execution_count": null,
   "metadata": {},
   "outputs": [],
   "source": [
    "(data.groupby('bankuai')['cjdanjia'].count()).to_csv('butongbankuaichengjiao.csv',encoding='utf_8_sig')"
   ]
  },
  {
   "cell_type": "code",
   "execution_count": null,
   "metadata": {},
   "outputs": [],
   "source": [
    "bins=[0,2,4,6,8,12,15]\n",
    "fenbu=pd.cut(data['cjdanjia'],bins)"
   ]
  },
  {
   "cell_type": "code",
   "execution_count": null,
   "metadata": {},
   "outputs": [],
   "source": [
    "data['cjdanjiafenbu']=fenbu"
   ]
  },
  {
   "cell_type": "code",
   "execution_count": null,
   "metadata": {},
   "outputs": [],
   "source": [
    "data.groupby(['bankuai','cjdanjiafenbu'])['cjdanjiafenbu'].count()"
   ]
  },
  {
   "cell_type": "code",
   "execution_count": null,
   "metadata": {},
   "outputs": [],
   "source": [
    "(data.groupby(['bankuai','cjdanjiafenbu'])['cjdanjiafenbu'].count()).to_csv('cjdanjiafenbu.csv',encoding='utf_8_sig')"
   ]
  },
  {
   "cell_type": "code",
   "execution_count": null,
   "metadata": {},
   "outputs": [],
   "source": [
    "data.groupby(['year','mendian'])['mendian'].count()"
   ]
  },
  {
   "cell_type": "code",
   "execution_count": null,
   "metadata": {},
   "outputs": [],
   "source": [
    "(data.groupby(['year','mendian'])['mendian'].count()).to_csv('butongnianxianmendian.csv',encoding='utf_8_sig')"
   ]
  },
  {
   "cell_type": "code",
   "execution_count": null,
   "metadata": {},
   "outputs": [],
   "source": [
    "data.groupby('zhiwei')['zhiwei'].count()"
   ]
  },
  {
   "cell_type": "code",
   "execution_count": null,
   "metadata": {},
   "outputs": [],
   "source": [
    "(data.groupby('zhiwei')['zhiwei'].count()).to_csv('zhiwei.csv',encoding='utf_8_sig')"
   ]
  },
  {
   "cell_type": "code",
   "execution_count": null,
   "metadata": {},
   "outputs": [],
   "source": [
    "bins=[0,2,4,6,8,12,15]\n",
    "fenbu=pd.cut(data['cjdanjia'],bins)\n",
    "data.groupby(['year','cjdanjiafenbu'])['cjdanjiafenbu'].count()"
   ]
  },
  {
   "cell_type": "code",
   "execution_count": 31,
   "metadata": {},
   "outputs": [
    {
     "output_type": "error",
     "ename": "KeyError",
     "evalue": "'year'",
     "traceback": [
      "\u001b[0;31m---------------------------------------------------------------------------\u001b[0m",
      "\u001b[0;31mKeyError\u001b[0m                                  Traceback (most recent call last)",
      "\u001b[0;32m<ipython-input-31-836acc3c2b9a>\u001b[0m in \u001b[0;36m<module>\u001b[0;34m\u001b[0m\n\u001b[0;32m----> 1\u001b[0;31m \u001b[0;34m(\u001b[0m\u001b[0mdata\u001b[0m\u001b[0;34m.\u001b[0m\u001b[0mgroupby\u001b[0m\u001b[0;34m(\u001b[0m\u001b[0;34m[\u001b[0m\u001b[0;34m'year'\u001b[0m\u001b[0;34m,\u001b[0m\u001b[0;34m'cjdanjiafenbu'\u001b[0m\u001b[0;34m]\u001b[0m\u001b[0;34m)\u001b[0m\u001b[0;34m[\u001b[0m\u001b[0;34m'cjdanjiafenbu'\u001b[0m\u001b[0;34m]\u001b[0m\u001b[0;34m.\u001b[0m\u001b[0mcount\u001b[0m\u001b[0;34m(\u001b[0m\u001b[0;34m)\u001b[0m\u001b[0;34m)\u001b[0m\u001b[0;34m.\u001b[0m\u001b[0mto_csv\u001b[0m\u001b[0;34m(\u001b[0m\u001b[0;34m'xiaofeizhejiage.csv'\u001b[0m\u001b[0;34m,\u001b[0m\u001b[0mencoding\u001b[0m\u001b[0;34m=\u001b[0m\u001b[0;34m'utf_8_sig'\u001b[0m\u001b[0;34m)\u001b[0m\u001b[0;34m\u001b[0m\u001b[0;34m\u001b[0m\u001b[0m\n\u001b[0m",
      "\u001b[0;32m/usr/local/Caskroom/miniconda/base/envs/cv-base/lib/python3.8/site-packages/pandas/core/frame.py\u001b[0m in \u001b[0;36mgroupby\u001b[0;34m(self, by, axis, level, as_index, sort, group_keys, squeeze, observed, dropna)\u001b[0m\n\u001b[1;32m   6715\u001b[0m         \u001b[0maxis\u001b[0m \u001b[0;34m=\u001b[0m \u001b[0mself\u001b[0m\u001b[0;34m.\u001b[0m\u001b[0m_get_axis_number\u001b[0m\u001b[0;34m(\u001b[0m\u001b[0maxis\u001b[0m\u001b[0;34m)\u001b[0m\u001b[0;34m\u001b[0m\u001b[0;34m\u001b[0m\u001b[0m\n\u001b[1;32m   6716\u001b[0m \u001b[0;34m\u001b[0m\u001b[0m\n\u001b[0;32m-> 6717\u001b[0;31m         return DataFrameGroupBy(\n\u001b[0m\u001b[1;32m   6718\u001b[0m             \u001b[0mobj\u001b[0m\u001b[0;34m=\u001b[0m\u001b[0mself\u001b[0m\u001b[0;34m,\u001b[0m\u001b[0;34m\u001b[0m\u001b[0;34m\u001b[0m\u001b[0m\n\u001b[1;32m   6719\u001b[0m             \u001b[0mkeys\u001b[0m\u001b[0;34m=\u001b[0m\u001b[0mby\u001b[0m\u001b[0;34m,\u001b[0m\u001b[0;34m\u001b[0m\u001b[0;34m\u001b[0m\u001b[0m\n",
      "\u001b[0;32m/usr/local/Caskroom/miniconda/base/envs/cv-base/lib/python3.8/site-packages/pandas/core/groupby/groupby.py\u001b[0m in \u001b[0;36m__init__\u001b[0;34m(self, obj, keys, axis, level, grouper, exclusions, selection, as_index, sort, group_keys, squeeze, observed, mutated, dropna)\u001b[0m\n\u001b[1;32m    558\u001b[0m             \u001b[0;32mfrom\u001b[0m \u001b[0mpandas\u001b[0m\u001b[0;34m.\u001b[0m\u001b[0mcore\u001b[0m\u001b[0;34m.\u001b[0m\u001b[0mgroupby\u001b[0m\u001b[0;34m.\u001b[0m\u001b[0mgrouper\u001b[0m \u001b[0;32mimport\u001b[0m \u001b[0mget_grouper\u001b[0m\u001b[0;34m\u001b[0m\u001b[0;34m\u001b[0m\u001b[0m\n\u001b[1;32m    559\u001b[0m \u001b[0;34m\u001b[0m\u001b[0m\n\u001b[0;32m--> 560\u001b[0;31m             grouper, exclusions, obj = get_grouper(\n\u001b[0m\u001b[1;32m    561\u001b[0m                 \u001b[0mobj\u001b[0m\u001b[0;34m,\u001b[0m\u001b[0;34m\u001b[0m\u001b[0;34m\u001b[0m\u001b[0m\n\u001b[1;32m    562\u001b[0m                 \u001b[0mkeys\u001b[0m\u001b[0;34m,\u001b[0m\u001b[0;34m\u001b[0m\u001b[0;34m\u001b[0m\u001b[0m\n",
      "\u001b[0;32m/usr/local/Caskroom/miniconda/base/envs/cv-base/lib/python3.8/site-packages/pandas/core/groupby/grouper.py\u001b[0m in \u001b[0;36mget_grouper\u001b[0;34m(obj, key, axis, level, sort, observed, mutated, validate, dropna)\u001b[0m\n\u001b[1;32m    809\u001b[0m                 \u001b[0min_axis\u001b[0m\u001b[0;34m,\u001b[0m \u001b[0mname\u001b[0m\u001b[0;34m,\u001b[0m \u001b[0mlevel\u001b[0m\u001b[0;34m,\u001b[0m \u001b[0mgpr\u001b[0m \u001b[0;34m=\u001b[0m \u001b[0;32mFalse\u001b[0m\u001b[0;34m,\u001b[0m \u001b[0;32mNone\u001b[0m\u001b[0;34m,\u001b[0m \u001b[0mgpr\u001b[0m\u001b[0;34m,\u001b[0m \u001b[0;32mNone\u001b[0m\u001b[0;34m\u001b[0m\u001b[0;34m\u001b[0m\u001b[0m\n\u001b[1;32m    810\u001b[0m             \u001b[0;32melse\u001b[0m\u001b[0;34m:\u001b[0m\u001b[0;34m\u001b[0m\u001b[0;34m\u001b[0m\u001b[0m\n\u001b[0;32m--> 811\u001b[0;31m                 \u001b[0;32mraise\u001b[0m \u001b[0mKeyError\u001b[0m\u001b[0;34m(\u001b[0m\u001b[0mgpr\u001b[0m\u001b[0;34m)\u001b[0m\u001b[0;34m\u001b[0m\u001b[0;34m\u001b[0m\u001b[0m\n\u001b[0m\u001b[1;32m    812\u001b[0m         \u001b[0;32melif\u001b[0m \u001b[0misinstance\u001b[0m\u001b[0;34m(\u001b[0m\u001b[0mgpr\u001b[0m\u001b[0;34m,\u001b[0m \u001b[0mGrouper\u001b[0m\u001b[0;34m)\u001b[0m \u001b[0;32mand\u001b[0m \u001b[0mgpr\u001b[0m\u001b[0;34m.\u001b[0m\u001b[0mkey\u001b[0m \u001b[0;32mis\u001b[0m \u001b[0;32mnot\u001b[0m \u001b[0;32mNone\u001b[0m\u001b[0;34m:\u001b[0m\u001b[0;34m\u001b[0m\u001b[0;34m\u001b[0m\u001b[0m\n\u001b[1;32m    813\u001b[0m             \u001b[0;31m# Add key to exclusions\u001b[0m\u001b[0;34m\u001b[0m\u001b[0;34m\u001b[0m\u001b[0;34m\u001b[0m\u001b[0m\n",
      "\u001b[0;31mKeyError\u001b[0m: 'year'"
     ]
    }
   ],
   "source": [
    "(data.groupby(['year','cjdanjiafenbu'])['cjdanjiafenbu'].count()).to_csv('xiaofeizhejiage.csv',encoding='utf_8_sig')"
   ]
  },
  {
   "cell_type": "code",
   "execution_count": null,
   "metadata": {},
   "outputs": [],
   "source": []
  }
 ],
 "metadata": {
  "kernelspec": {
   "name": "python3",
   "display_name": "Python 3.8.5 64-bit ('cv-base': conda)"
  },
  "language_info": {
   "codemirror_mode": {
    "name": "ipython",
    "version": 3
   },
   "file_extension": ".py",
   "mimetype": "text/x-python",
   "name": "python",
   "nbconvert_exporter": "python",
   "pygments_lexer": "ipython3",
   "version": "3.8.5"
  },
  "interpreter": {
   "hash": "35aca4c616bbe2be3554c7c605b90908c0748cd12fc8f4f08e6a36aa29d6c924"
  }
 },
 "nbformat": 4,
 "nbformat_minor": 2
}